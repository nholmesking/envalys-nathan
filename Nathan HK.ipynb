{
 "cells": [
  {
   "cell_type": "markdown",
   "id": "970ab42f-e0b5-47e2-bca7-e268dd9acaec",
   "metadata": {},
   "source": [
    "# Notkun gervigreindar fyrir greiningu á þrívíddarmyndum"
   ]
  },
  {
   "cell_type": "markdown",
   "id": "863c4b5e-f8a0-40e4-9a20-fce177517b49",
   "metadata": {},
   "source": [
    "Nathan Holmes-King"
   ]
  },
  {
   "cell_type": "code",
   "execution_count": 28,
   "id": "c1d3ccaa-e673-4dcf-9068-325a8d71f115",
   "metadata": {},
   "outputs": [],
   "source": [
    "import numpy as np\n",
    "import pandas as pd\n",
    "import pywikibot\n",
    "import sklearn as sk\n",
    "from sklearn.model_selection import train_test_split\n",
    "from stl import mesh\n",
    "import time\n",
    "import torch\n",
    "import torch.nn as nn\n",
    "import torch.nn.functional as F\n",
    "import torch.optim as optim\n",
    "device = torch.device(\"cpu\")#\"mps\" if torch.backends.mps.is_available() else \"cpu\")\n",
    "torch.set_default_device(device)"
   ]
  },
  {
   "cell_type": "markdown",
   "id": "b7f14fa6-f58f-4887-b619-09ded63df20d",
   "metadata": {},
   "source": [
    "## Inngangsorð\n",
    "Við ætlum að þjálfa gervigreindarlíkan til að greina þrívíddarmyndir. Í notkun eru líkön sem geta það, en þau nota alltaf \"bitmap\"-myndir. Þetta líkan hér notar \"vector\"-myndir eins og Envalys."
   ]
  },
  {
   "cell_type": "markdown",
   "id": "9be5a80b-f925-4de4-a0cb-4ecfbdd55f23",
   "metadata": {},
   "source": [
    "## Gögn\n",
    "Þessi gögn eru STL-skrár frá Wikimedia Commons. Það eru fimm flokkar:\n",
    "- byggingar\n",
    "- rúmfræði\n",
    "- geimfarartæki\n",
    "- styttur"
   ]
  },
  {
   "cell_type": "markdown",
   "id": "f4a48e65-ff71-4dff-95a0-621dea4d722a",
   "metadata": {},
   "source": [
    "### Sækja gögn"
   ]
  },
  {
   "cell_type": "code",
   "execution_count": 29,
   "id": "7a80470d-2fe8-4a13-8c49-07d5253f0328",
   "metadata": {},
   "outputs": [],
   "source": [
    "flokkar = ['body parts', 'buildings', 'geometric shapes', 'objects in space', 'sculptures']\n",
    "skrar = {}\n",
    "catnum = {}"
   ]
  },
  {
   "cell_type": "code",
   "execution_count": 30,
   "id": "aadeeb0f-d6b6-4bdf-9fba-2979297056b4",
   "metadata": {},
   "outputs": [
    {
     "name": "stdout",
     "output_type": "stream",
     "text": [
      "body parts\n",
      "0\n",
      "10\n",
      "20\n",
      "30\n",
      "40\n",
      "50\n",
      "60\n",
      "70\n",
      "80\n",
      "buildings\n",
      "0\n",
      "10\n",
      "20\n",
      "geometric shapes\n",
      "0\n",
      "10\n",
      "20\n",
      "30\n",
      "40\n",
      "objects in space\n",
      "0\n",
      "10\n",
      "20\n",
      "30\n",
      "40\n",
      "50\n",
      "sculptures\n",
      "0\n",
      "10\n",
      "20\n",
      "30\n",
      "40\n",
      "50\n"
     ]
    }
   ],
   "source": [
    "commons = pywikibot.Site('commons', 'commons')\n",
    "cn = 0\n",
    "for a in flokkar:\n",
    "    print(a)\n",
    "    cat = pywikibot.Category(commons, 'STL files of ' + a)\n",
    "    catnum[a] = cn\n",
    "    cn += 1\n",
    "    n = 0\n",
    "    for p in cat.members(member_type=['file']):\n",
    "        if n % 10 == 0:\n",
    "            print(n)\n",
    "        mynd = pywikibot.FilePage(p)\n",
    "        try:\n",
    "            tempf = open('/Users/002-nathan/Desktop/Envalys/STLdata/' + a + '_' + p.title()[5:], 'r')\n",
    "            tempf.close()\n",
    "        except FileNotFoundError:\n",
    "            mynd.download(filename='/Users/002-nathan/Desktop/Envalys/STLdata/' + a + '_' + p.title()[5:])\n",
    "        try:\n",
    "            skrar[a].append(p.title()[5:])\n",
    "        except KeyError:\n",
    "            skrar[a] = [p.title()[5:]]\n",
    "        n += 1\n",
    "        if n >= 100:\n",
    "            break"
   ]
  },
  {
   "cell_type": "markdown",
   "id": "af781434-8e30-4444-a693-c601f559cbbe",
   "metadata": {},
   "source": [
    "### Setja upp gögn fyrir notkun\n",
    "Við deilum myndinni í 2.097.152 (128x128x128) þrívíddardíla eða \"voxels\", teljum punktana í hverjum díl, og notum töluna til að greina myndina."
   ]
  },
  {
   "cell_type": "code",
   "execution_count": 43,
   "id": "0ed15642-7cd9-4d0e-ac83-2f84bd7273eb",
   "metadata": {},
   "outputs": [
    {
     "name": "stdout",
     "output_type": "stream",
     "text": [
      "body parts\n",
      "45.23072910308838\n",
      "----\n",
      "buildings\n",
      "25.889988899230957\n",
      "----\n",
      "geometric shapes\n",
      "32.926254987716675\n",
      "----\n",
      "objects in space\n",
      "exception (False, 'No lines found, impossible to read')\n",
      "46.50938415527344\n",
      "----\n",
      "sculptures\n",
      "118.43725895881653\n",
      "----\n"
     ]
    }
   ],
   "source": [
    "X_preproc = []\n",
    "y_preproc = []\n",
    "for cat in skrar:\n",
    "    print(cat)\n",
    "    byrjun = time.time()\n",
    "    for fi in skrar[cat]:\n",
    "        # Load data\n",
    "        gogn = mesh.Mesh.from_file('/Users/002-nathan/Desktop/Envalys/STLdata/' + cat + '_' + fi)\n",
    "        # Re-scale to be \n",
    "        gogn_x = [a[0] for a in gogn.v0]# + [a[0] for a in gogn.v1] + [a[0] for a in gogn.v2]\n",
    "        gogn_y = [a[1] for a in gogn.v0]# + [a[1] for a in gogn.v1] + [a[1] for a in gogn.v2]\n",
    "        gogn_z = [a[2] for a in gogn.v0]# + [a[2] for a in gogn.v1] + [a[2] for a in gogn.v2]\n",
    "        minx = min(gogn_x)\n",
    "        miny = min(gogn_y)\n",
    "        minz = min(gogn_z)\n",
    "        scale = min(128 / (max(gogn_x) + 1e-3 - minx), \n",
    "                    128 / (max(gogn_y) + 1e-3 - miny), \n",
    "                    128 / (max(gogn_z) + 1e-3 - minz))\n",
    "        ny_gogn = np.zeros((1, 128, 128, 128), dtype=np.float32)\n",
    "        for a in gogn.v0:\n",
    "            x = int((a[0] - minx) * scale)\n",
    "            y = int((a[1] - miny) * scale)\n",
    "            z = int((a[2] - minz) * scale)\n",
    "            ny_gogn[0][x][y][z] += 1\n",
    "        X_preproc.append(ny_gogn)\n",
    "        y_preproc.append([catnum[cat]])\n",
    "    print(time.time() - byrjun)\n",
    "    print('----')"
   ]
  },
  {
   "cell_type": "code",
   "execution_count": 50,
   "id": "abd1fbba-0c01-46b6-9ada-9264b7368d38",
   "metadata": {},
   "outputs": [],
   "source": [
    "X_data = []\n",
    "y_data = []\n",
    "for a in X_preproc:\n",
    "    X_data.append(torch.from_numpy(a).to(device))\n",
    "for a in y_preproc:\n",
    "    y_data.append(torch.tensor(a).to(device))"
   ]
  },
  {
   "cell_type": "markdown",
   "id": "27b2e0e5-6430-4a8a-8abe-2447a02233e9",
   "metadata": {},
   "source": [
    "## Líkan"
   ]
  },
  {
   "cell_type": "code",
   "execution_count": 51,
   "id": "50523aef-6ef1-4268-a44d-a5b724773d1c",
   "metadata": {},
   "outputs": [],
   "source": [
    "class likan(nn.Module):\n",
    "    def __init__(self):\n",
    "        super(likan, self).__init__()\n",
    "        self.conv1 = nn.Conv3d(1, 16, 5, padding=2)\n",
    "        self.conv2 = nn.Conv3d(16, 32, 5, padding=2)\n",
    "        self.conv3 = nn.Conv3d(32, 64, 5, padding=2)\n",
    "        self.fc1 = nn.Linear(64*16*16*16, 1024)\n",
    "        self.fc2 = nn.Linear(1024, 128)\n",
    "        self.fc3 = nn.Linear(128, 5)  # Change second param\n",
    "    def forward(self, x):\n",
    "        x = self.conv1(x)\n",
    "        x = F.relu(x)\n",
    "        x = F.max_pool3d(x, 2)\n",
    "        x = self.conv2(x)\n",
    "        x = F.relu(x)\n",
    "        x = F.max_pool3d(x, 2)\n",
    "        x = self.conv3(x)\n",
    "        x = F.relu(x)\n",
    "        x = F.max_pool3d(x, 2)\n",
    "        x = x.view(-1, 64*16*16*16)\n",
    "        x = F.relu(self.fc1(x))\n",
    "        x = F.dropout(x)\n",
    "        x = F.relu(self.fc2(x))\n",
    "        x = F.dropout(x)\n",
    "        x = self.fc3(x)\n",
    "        return F.log_softmax(x, dim=1)"
   ]
  },
  {
   "cell_type": "code",
   "execution_count": 52,
   "id": "ccd82e93-6f32-41a2-88de-0bcb68ae2ba3",
   "metadata": {},
   "outputs": [],
   "source": [
    "num_epochs = 10\n",
    "learning_rate = 0.01\n",
    "momentum = 0.5"
   ]
  },
  {
   "cell_type": "code",
   "execution_count": 57,
   "id": "848d23a9-0cf4-4139-ba2b-3845948f5f72",
   "metadata": {},
   "outputs": [
    {
     "name": "stdout",
     "output_type": "stream",
     "text": [
      "Random state: 0\n",
      "Train accuracy: 0.33507853403141363\n",
      "Test accuracy: 0.28125\n",
      "Time: 800.8489389419556\n",
      "----\n",
      "Random state: 1\n",
      "Train accuracy: 0.31413612565445026\n",
      "Test accuracy: 0.34375\n",
      "Time: 1575.3194189071655\n",
      "----\n",
      "Random state: 2\n",
      "Train accuracy: 0.3089005235602094\n",
      "Test accuracy: 0.359375\n",
      "Time: 2390.0025758743286\n",
      "----\n",
      "Random state: 3\n",
      "Train accuracy: 0.29842931937172773\n",
      "Test accuracy: 0.390625\n",
      "Time: 3222.183765888214\n",
      "----\n",
      "Random state: 4\n",
      "Train accuracy: 0.32460732984293195\n",
      "Test accuracy: 0.3125\n",
      "Time: 3901.0437047481537\n",
      "----\n",
      "Random state: 5\n",
      "Train accuracy: 0.3193717277486911\n",
      "Test accuracy: 0.328125\n",
      "Time: 4568.819064855576\n",
      "----\n",
      "Random state: 6\n",
      "Train accuracy: 0.3298429319371728\n",
      "Test accuracy: 0.296875\n",
      "Time: 5248.697355031967\n",
      "----\n",
      "Random state: 7\n",
      "Train accuracy: 0.31413612565445026\n",
      "Test accuracy: 0.34375\n",
      "Time: 5953.619192838669\n",
      "----\n",
      "Random state: 8\n",
      "Train accuracy: 0.3193717277486911\n",
      "Test accuracy: 0.328125\n",
      "Time: 6699.392108678818\n",
      "----\n",
      "Random state: 9\n",
      "Train accuracy: 0.2879581151832461\n",
      "Test accuracy: 0.421875\n",
      "Time: 7441.755554676056\n",
      "----\n",
      "Mean test accuracy: 0.340625\n"
     ]
    }
   ],
   "source": [
    "byrjun = time.time()\n",
    "acc = []\n",
    "for i in range(10):\n",
    "    print('Random state:', i)\n",
    "    X_data = []\n",
    "    y_data = []\n",
    "    for a in X_preproc:\n",
    "        X_data.append(torch.from_numpy(a).to(device))\n",
    "    for a in y_preproc:\n",
    "        y_data.append(torch.tensor(a).to(device))\n",
    "    X_train, X_test, y_train, y_test = train_test_split(X_data, y_data, random_state=i)\n",
    "    model = likan()\n",
    "    optimizer = optim.SGD(model.parameters(), lr=learning_rate, momentum=momentum)\n",
    "    for n in range(len(X_train)):\n",
    "        optimizer.zero_grad()\n",
    "        output = model(X_train[n])\n",
    "        loss = F.nll_loss(output, y_train[n])\n",
    "        loss.backward()\n",
    "        optimizer.step()\n",
    "    correct = 0\n",
    "    with torch.no_grad():\n",
    "        for n in range(len(X_train)):\n",
    "            output = model(X_train[n])\n",
    "            y_pred = output.data.max(1, keepdim=True)[1]\n",
    "            correct += y_pred.eq(y_train[n]).sum().item()\n",
    "    print('Train accuracy:', correct / len(y_train))\n",
    "    correct = 0\n",
    "    with torch.no_grad():\n",
    "        for n in range(len(X_test)):\n",
    "            output = model(X_test[n])\n",
    "            y_pred = output.data.max(1, keepdim=True)[1]\n",
    "            correct += y_pred.eq(y_test[n]).sum().item()\n",
    "    print('Test accuracy:', correct / len(y_test))\n",
    "    acc.append(correct / len(y_test))\n",
    "    print('Time:', time.time() - byrjun)\n",
    "    print('----')\n",
    "print('Mean test accuracy:', np.mean(acc))"
   ]
  },
  {
   "cell_type": "markdown",
   "id": "7f48b8b0-cbb6-40d7-ad94-3f77a68bd765",
   "metadata": {},
   "source": [
    "## Lokaorð\n",
    "\n",
    "Eftir 1 lotu (\"epoch\") spáir líkanið rétta flokkinn fyrir á milli 28% og 42% myndanna; meðaltalið er 34%. En ef það væri af handahófi, þá myndi það vera 20%. Líkanið virkar.\n",
    "\n",
    "Hvernig notum við líkan eins og þetta?\n",
    "- Til að greina þrívíddarmyndir sem notendur teikna.\n",
    "- Sem fyrsta skref í stærra líkani sem teiknir sjálft eftir texta sem notendur skrifa.\n",
    "\n",
    "Vandamál:\n",
    "- Ekki nóg gögn. Alvörulíkön nota fleiri en 10.000 mynda til að þjálfast.\n",
    "- Ekki nógir flokkar. Allir flokkar, sérstaklega \"líkamshlutar\", eru mjög fjölbreyttir og alls ekki eins fyrir tölvuna.\n",
    "- Við notum aðeins punkta, ekki línur eða flatir, til að greina.\n",
    "\n",
    "En þetta er það besta fyrir gögnin sem ég var með. Og það tók nóg langan tíma til að þjálfa líkanið; þess vegna þurfum við betri tölvu."
   ]
  }
 ],
 "metadata": {
  "kernelspec": {
   "display_name": "Python 3 (ipykernel)",
   "language": "python",
   "name": "python3"
  },
  "language_info": {
   "codemirror_mode": {
    "name": "ipython",
    "version": 3
   },
   "file_extension": ".py",
   "mimetype": "text/x-python",
   "name": "python",
   "nbconvert_exporter": "python",
   "pygments_lexer": "ipython3",
   "version": "3.10.0"
  }
 },
 "nbformat": 4,
 "nbformat_minor": 5
}
