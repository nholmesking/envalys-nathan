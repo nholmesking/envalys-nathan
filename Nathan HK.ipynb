{
 "cells": [
  {
   "cell_type": "markdown",
   "id": "970ab42f-e0b5-47e2-bca7-e268dd9acaec",
   "metadata": {},
   "source": [
    "# Notkun gervigreindar fyrir greiningu á þrívíddarmyndum"
   ]
  },
  {
   "cell_type": "markdown",
   "id": "863c4b5e-f8a0-40e4-9a20-fce177517b49",
   "metadata": {},
   "source": [
    "Nathan Holmes-King"
   ]
  },
  {
   "cell_type": "code",
   "execution_count": 40,
   "id": "c1d3ccaa-e673-4dcf-9068-325a8d71f115",
   "metadata": {},
   "outputs": [],
   "source": [
    "import numpy as np\n",
    "import pandas as pd\n",
    "import pywikibot\n",
    "import sklearn as sk\n",
    "from sklearn.model_selection import train_test_split\n",
    "from stl import mesh\n",
    "import time\n",
    "import torch\n",
    "import torch.nn as nn\n",
    "import torch.nn.functional as F\n",
    "import torch.optim as optim\n",
    "device = torch.device(\"cpu\")#\"mps\" if torch.backends.mps.is_available() else \"cpu\")\n",
    "torch.set_default_device(device)"
   ]
  },
  {
   "cell_type": "markdown",
   "id": "b7f14fa6-f58f-4887-b619-09ded63df20d",
   "metadata": {},
   "source": [
    "## Inngangsorð\n",
    "Við ætlum að þjálfa gervigreindarlíkan til að greina þrívíddarmyndir. Í notkun eru líkön sem geta það, en þau nota alltaf \"bitmap\"-myndir. Þetta líkan hér notar \"vector\"-myndir eins og Envalys."
   ]
  },
  {
   "cell_type": "markdown",
   "id": "9be5a80b-f925-4de4-a0cb-4ecfbdd55f23",
   "metadata": {},
   "source": [
    "## Gögn\n",
    "Þessi gögn eru STL-skrár frá Wikimedia Commons. Það eru fimm flokkar:\n",
    "- byggingar\n",
    "- rúmfræði\n",
    "- geimfarartæki\n",
    "- styttur"
   ]
  },
  {
   "cell_type": "markdown",
   "id": "f4a48e65-ff71-4dff-95a0-621dea4d722a",
   "metadata": {},
   "source": [
    "### Sækja gögn"
   ]
  },
  {
   "cell_type": "code",
   "execution_count": 41,
   "id": "7a80470d-2fe8-4a13-8c49-07d5253f0328",
   "metadata": {},
   "outputs": [],
   "source": [
    "flokkar = ['body parts', 'buildings', 'geometric shapes', 'objects in space', 'sculptures']\n",
    "skrar = {}\n",
    "catnum = {}"
   ]
  },
  {
   "cell_type": "code",
   "execution_count": 42,
   "id": "aadeeb0f-d6b6-4bdf-9fba-2979297056b4",
   "metadata": {},
   "outputs": [
    {
     "name": "stdout",
     "output_type": "stream",
     "text": [
      "body parts\n",
      "0\n",
      "10\n",
      "20\n",
      "30\n",
      "40\n",
      "50\n",
      "60\n",
      "70\n",
      "80\n",
      "buildings\n",
      "0\n",
      "10\n",
      "20\n",
      "geometric shapes\n",
      "0\n",
      "10\n",
      "20\n",
      "30\n",
      "40\n",
      "objects in space\n",
      "0\n",
      "10\n",
      "20\n",
      "30\n",
      "40\n",
      "50\n",
      "sculptures\n",
      "0\n",
      "10\n",
      "20\n",
      "30\n",
      "40\n",
      "50\n"
     ]
    }
   ],
   "source": [
    "commons = pywikibot.Site('commons', 'commons')\n",
    "cn = 0\n",
    "for a in flokkar:\n",
    "    print(a)\n",
    "    cat = pywikibot.Category(commons, 'STL files of ' + a)\n",
    "    catnum[a] = cn\n",
    "    cn += 1\n",
    "    n = 0\n",
    "    for p in cat.members(member_type=['file']):\n",
    "        if n % 10 == 0:\n",
    "            print(n)\n",
    "        mynd = pywikibot.FilePage(p)\n",
    "        try:\n",
    "            tempf = open('/Users/002-nathan/Desktop/Envalys/STLdata/' + a + '_' + p.title()[5:], 'r')\n",
    "            tempf.close()\n",
    "        except FileNotFoundError:\n",
    "            mynd.download(filename='/Users/002-nathan/Desktop/Envalys/STLdata/' + a + '_' + p.title()[5:])\n",
    "        try:\n",
    "            skrar[a].append(p.title()[5:])\n",
    "        except KeyError:\n",
    "            skrar[a] = [p.title()[5:]]\n",
    "        n += 1\n",
    "        if n >= 100:\n",
    "            break"
   ]
  },
  {
   "cell_type": "markdown",
   "id": "af781434-8e30-4444-a693-c601f559cbbe",
   "metadata": {},
   "source": [
    "### Setja upp gögn fyrir notkun\n",
    "Við deilum myndinni í 2.097.152 (128x128x128) þrívíddardíla eða \"voxels\", teljum punktana í hverjum díl, og notum töluna til að greina myndina."
   ]
  },
  {
   "cell_type": "code",
   "execution_count": 55,
   "id": "0ed15642-7cd9-4d0e-ac83-2f84bd7273eb",
   "metadata": {},
   "outputs": [
    {
     "name": "stdout",
     "output_type": "stream",
     "text": [
      "body parts\n",
      "44.615397930145264\n",
      "----\n",
      "buildings\n",
      "26.1183819770813\n",
      "----\n",
      "geometric shapes\n",
      "33.361220836639404\n",
      "----\n",
      "objects in space\n",
      "exception (False, 'No lines found, impossible to read')\n",
      "46.414735317230225\n",
      "----\n",
      "sculptures\n",
      "116.57011818885803\n",
      "----\n"
     ]
    }
   ],
   "source": [
    "X_data = []\n",
    "y_data = []\n",
    "for cat in skrar:\n",
    "    print(cat)\n",
    "    byrjun = time.time()\n",
    "    for fi in skrar[cat]:\n",
    "        # Load data\n",
    "        gogn = mesh.Mesh.from_file('/Users/002-nathan/Desktop/Envalys/STLdata/' + cat + '_' + fi)\n",
    "        # Re-scale to be \n",
    "        gogn_x = [a[0] for a in gogn.v0]# + [a[0] for a in gogn.v1] + [a[0] for a in gogn.v2]\n",
    "        gogn_y = [a[1] for a in gogn.v0]# + [a[1] for a in gogn.v1] + [a[1] for a in gogn.v2]\n",
    "        gogn_z = [a[2] for a in gogn.v0]# + [a[2] for a in gogn.v1] + [a[2] for a in gogn.v2]\n",
    "        minx = min(gogn_x)\n",
    "        miny = min(gogn_y)\n",
    "        minz = min(gogn_z)\n",
    "        scale = min(128 / (max(gogn_x) + 1e-3 - minx), \n",
    "                    128 / (max(gogn_y) + 1e-3 - miny), \n",
    "                    128 / (max(gogn_z) + 1e-3 - minz))\n",
    "        ny_gogn = np.zeros((1, 128, 128, 128), dtype=np.float32)\n",
    "        for a in gogn.v0:\n",
    "            x = int((a[0] - minx) * scale)\n",
    "            y = int((a[1] - miny) * scale)\n",
    "            z = int((a[2] - minz) * scale)\n",
    "            ny_gogn[0][x][y][z] += 1\n",
    "        X_data.append(torch.from_numpy(ny_gogn).to(device))\n",
    "        y_data.append(torch.tensor([catnum[cat]]).to(device))\n",
    "    print(time.time() - byrjun)\n",
    "    print('----')"
   ]
  },
  {
   "cell_type": "code",
   "execution_count": 56,
   "id": "b11cec41-8d1e-4584-889d-434c44f1081e",
   "metadata": {},
   "outputs": [],
   "source": [
    "X_train, X_test, y_train, y_test = train_test_split(X_data, y_data)"
   ]
  },
  {
   "cell_type": "markdown",
   "id": "27b2e0e5-6430-4a8a-8abe-2447a02233e9",
   "metadata": {},
   "source": [
    "## Líkan"
   ]
  },
  {
   "cell_type": "code",
   "execution_count": 57,
   "id": "50523aef-6ef1-4268-a44d-a5b724773d1c",
   "metadata": {},
   "outputs": [],
   "source": [
    "class likan(nn.Module):\n",
    "    def __init__(self):\n",
    "        super(likan, self).__init__()\n",
    "        self.conv1 = nn.Conv3d(1, 16, 5, padding=2)\n",
    "        self.conv2 = nn.Conv3d(16, 32, 5, padding=2)\n",
    "        self.conv3 = nn.Conv3d(32, 64, 5, padding=2)\n",
    "        self.fc1 = nn.Linear(64*16*16*16, 1024)\n",
    "        self.fc2 = nn.Linear(1024, 128)\n",
    "        self.fc3 = nn.Linear(128, 5)  # Change second param\n",
    "    def forward(self, x):\n",
    "        x = self.conv1(x)\n",
    "        x = F.relu(x)\n",
    "        x = F.max_pool3d(x, 2)\n",
    "        x = self.conv2(x)\n",
    "        x = F.relu(x)\n",
    "        x = F.max_pool3d(x, 2)\n",
    "        x = self.conv3(x)\n",
    "        x = F.relu(x)\n",
    "        x = F.max_pool3d(x, 2)\n",
    "        x = x.view(-1, 64*16*16*16)\n",
    "        x = F.relu(self.fc1(x))\n",
    "        x = F.dropout(x)\n",
    "        x = F.relu(self.fc2(x))\n",
    "        x = F.dropout(x)\n",
    "        x = self.fc3(x)\n",
    "        return F.log_softmax(x, dim=1)"
   ]
  },
  {
   "cell_type": "code",
   "execution_count": 58,
   "id": "ccd82e93-6f32-41a2-88de-0bcb68ae2ba3",
   "metadata": {},
   "outputs": [],
   "source": [
    "num_epochs = 10\n",
    "learning_rate = 0.01\n",
    "momentum = 0.5"
   ]
  },
  {
   "cell_type": "code",
   "execution_count": 59,
   "id": "3a0214ee-1769-4677-99fe-da8d8da057e8",
   "metadata": {},
   "outputs": [],
   "source": [
    "model = likan()\n",
    "optimizer = optim.SGD(model.parameters(), lr=learning_rate, momentum=momentum)"
   ]
  },
  {
   "cell_type": "code",
   "execution_count": 60,
   "id": "848d23a9-0cf4-4139-ba2b-3845948f5f72",
   "metadata": {},
   "outputs": [
    {
     "name": "stdout",
     "output_type": "stream",
     "text": [
      "Epoch:  0\n",
      "Accuracy: 0.421875\n",
      "539.2964789867401\n",
      "----\n",
      "Epoch:  1\n",
      "Accuracy: 0.375\n",
      "1067.8597650527954\n",
      "----\n",
      "Epoch:  2\n",
      "Accuracy: 0.375\n",
      "1586.2667210102081\n",
      "----\n",
      "Epoch:  3\n",
      "Accuracy: 0.375\n",
      "2109.4060530662537\n",
      "----\n",
      "Epoch:  4\n",
      "Accuracy: 0.375\n",
      "2664.4733459949493\n",
      "----\n",
      "Epoch:  5\n",
      "Accuracy: 0.375\n",
      "3222.6761951446533\n",
      "----\n",
      "Epoch:  6\n",
      "Accuracy: 0.375\n",
      "3784.357887983322\n",
      "----\n",
      "Epoch:  7\n",
      "Accuracy: 0.375\n",
      "4324.138797044754\n",
      "----\n",
      "Epoch:  8\n",
      "Accuracy: 0.375\n",
      "4862.470696926117\n",
      "----\n",
      "Epoch:  9\n",
      "Accuracy: 0.375\n",
      "5372.754050016403\n",
      "----\n"
     ]
    }
   ],
   "source": [
    "byrjun = time.time()\n",
    "for i in range(num_epochs):\n",
    "    print('Epoch: ', i)\n",
    "    for n in range(len(X_train)):\n",
    "        optimizer.zero_grad()\n",
    "        output = model(X_train[n])\n",
    "        loss = F.nll_loss(output, y_train[n])\n",
    "        loss.backward()\n",
    "        optimizer.step()\n",
    "    correct = 0\n",
    "    with torch.no_grad():\n",
    "        for n in range(len(X_test)):\n",
    "            output = model(X_test[n])\n",
    "            y_pred = output.data.max(1, keepdim=True)[1]\n",
    "            correct += y_pred.eq(y_test[n]).sum().item()\n",
    "    print('Accuracy:', correct / len(y_test))\n",
    "    print(time.time() - byrjun)\n",
    "    print('----')"
   ]
  },
  {
   "cell_type": "markdown",
   "id": "7f48b8b0-cbb6-40d7-ad94-3f77a68bd765",
   "metadata": {},
   "source": [
    "## Lokaorð\n",
    "\n",
    "Líkanið spáir rétta flokkinn fyrir 42% myndanna eftir 1 lotu (\"epoch\"). En ef það væri af handahófi, þá myndi það vera 20%. Líkanið virkar.\n",
    "\n",
    "Hvernig notum við líkan eins og þetta?\n",
    "- Til að greina þrívíddarmyndir sem notendur teikna.\n",
    "- Sem fyrsta skref í stærra líkani sem teiknir sjálft eftir texta sem notendur skrifa.\n",
    "\n",
    "Vandamál:\n",
    "- Ekki nóg gögn. Alvörulíkön nota fleiri en 10.000 mynda til að þjálfast.\n",
    "- Ekki nógir flokkar. Allir flokkar, sérstaklega \"líkamshlutar\", eru mjög fjölbreyttir og alls ekki eins fyrir tölvuna.\n",
    "- Við notum aðeins punkta, ekki línur eða flatir, til að greina.\n",
    "\n",
    "En þetta er það besta fyrir gögnin sem ég var með. Og það tók nóg langan tíma til að þjálfa líkanið; þess vegna þurfum við betri tölvu."
   ]
  }
 ],
 "metadata": {
  "kernelspec": {
   "display_name": "Python 3 (ipykernel)",
   "language": "python",
   "name": "python3"
  },
  "language_info": {
   "codemirror_mode": {
    "name": "ipython",
    "version": 3
   },
   "file_extension": ".py",
   "mimetype": "text/x-python",
   "name": "python",
   "nbconvert_exporter": "python",
   "pygments_lexer": "ipython3",
   "version": "3.10.0"
  }
 },
 "nbformat": 4,
 "nbformat_minor": 5
}
