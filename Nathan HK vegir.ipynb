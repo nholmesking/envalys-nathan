{
 "cells": [
  {
   "cell_type": "markdown",
   "id": "cbb1f41a-1e42-4d6d-bc9c-f9dcd67e2dfa",
   "metadata": {},
   "source": [
    "# Vegagreining á gervitunglamyndum\n",
    "Nathan HK"
   ]
  },
  {
   "cell_type": "code",
   "execution_count": 1,
   "id": "c79a1311-7a3d-44c3-8912-8d6052611252",
   "metadata": {},
   "outputs": [],
   "source": [
    "from io import BytesIO\n",
    "import math\n",
    "import matplotlib.image as mpimg\n",
    "import matplotlib.pyplot as plt\n",
    "import numpy as np\n",
    "from PIL import Image\n",
    "from pyrosm import OSM\n",
    "from pyrosm import get_data\n",
    "import pywikibot\n",
    "from selenium.common.exceptions import NoSuchElementException\n",
    "from selenium import webdriver\n",
    "from selenium.webdriver.common.by import By\n",
    "from selenium.webdriver.common.keys import Keys\n",
    "from shapely.geometry import Point\n",
    "import sklearn as sk\n",
    "from sklearn.model_selection import train_test_split\n",
    "import time\n",
    "import torch\n",
    "import torch.nn as nn\n",
    "import torch.nn.functional as F\n",
    "import torch.optim as optim\n",
    "import torchvision.models as models"
   ]
  },
  {
   "cell_type": "code",
   "execution_count": 2,
   "id": "73776003-4532-416f-8943-3f9ea869de4f",
   "metadata": {},
   "outputs": [],
   "source": [
    "mappa = '/Users/002-nathan/Desktop/Envalys/gtm/'\n",
    "device = torch.device('mps' if torch.backends.mps.is_available() else 'cpu')"
   ]
  },
  {
   "cell_type": "markdown",
   "id": "35614a2d-fc85-4085-b036-144f8ce4cbe7",
   "metadata": {},
   "source": [
    "## Inngangsorð\n",
    "Við viljum þjálfa gervigreindarlíkan til að greina vegi á gervitunglamyndum. Við þurfum tvenn gögn: gervitunglamyndir og staðsetningar vega.\n",
    "- **Gervitunglamyndir:** Við notum skjámyndatökur af Já.is. Ég veit ekki hvort þetta sé löglegt, en ég er ekki með neinar betri leiðir.\n",
    "- **Staðsetningar vega:** Við notum OpenStreetMap.\n",
    "\n",
    "Ég nota Apple M1 Pro-örgjörvi með 16 GB minni."
   ]
  },
  {
   "cell_type": "markdown",
   "id": "587ca15a-f705-45bc-a0a4-8c96bcfded27",
   "metadata": {},
   "source": [
    "## Gervitunglamyndir\n",
    "Við notum lista yfir greinar á ensku Wikipediunni um staði á Höfuðborgarsvæðinu og Akureyri. Gögnin á Landsbyggðinni eru ekki nóg nákvæm fyrir þetta líkan."
   ]
  },
  {
   "cell_type": "code",
   "execution_count": 3,
   "id": "611f2f21-144c-4ed2-abb1-c98e8e015757",
   "metadata": {},
   "outputs": [
    {
     "name": "stdout",
     "output_type": "stream",
     "text": [
      "54\n",
      "h 120 96.8330500125885\n",
      "6\n",
      "a 130 112.12509799003601\n"
     ]
    }
   ],
   "source": [
    "byrjun = time.time()\n",
    "hnitlisti = []\n",
    "wiki = pywikibot.Site('en', 'wikipedia')\n",
    "\n",
    "# Capital Region\n",
    "flokkur_h = pywikibot.Category(wiki, 'Populated places in Capital Region (Iceland)')\n",
    "undir = list(flokkur_h.subcategories(recurse=3))\n",
    "buinn_fl = []  # Completed categories\n",
    "buinn_si = []  # Completed pages\n",
    "print(len(undir))\n",
    "for a in undir:\n",
    "    if a in buinn_fl:  # Already did category\n",
    "        continue\n",
    "    for b in a.articles():\n",
    "        if b in buinn_si:  # Already did page\n",
    "            continue\n",
    "        coord = b.coordinates(primary_only=True)\n",
    "        # Coordinates are invalid outside latitude [63, 67] and longitude [-25, -12]\n",
    "        if coord is not None and coord.lat >= 63 and coord.lat <= 67 and coord.lon >= -25 and coord.lon <= -12:\n",
    "            hnitlisti.append(('h', float(coord.lat), float(coord.lon)))\n",
    "        buinn_si.append(b)\n",
    "    buinn_fl.append(a)\n",
    "print('h', len(hnitlisti), time.time() - byrjun)\n",
    "\n",
    "# Akureyri\n",
    "flokkur_a = pywikibot.Category(wiki, 'Akureyri')\n",
    "undir = list(flokkur_a.subcategories(recurse=3))\n",
    "buinn_fl = []  # Completed categories\n",
    "buinn_si = []  # Completed pages\n",
    "print(len(undir))\n",
    "for a in undir:\n",
    "    if a in buinn_fl:  # Already did category\n",
    "        continue\n",
    "    for b in a.articles():\n",
    "        if b in buinn_si:  # Already did page\n",
    "            continue\n",
    "        coord = b.coordinates(primary_only=True)\n",
    "        # Coordinates are invalid outside latitude [63, 67] and longitude [-25, -12]\n",
    "        if coord is not None and coord.lat >= 63 and coord.lat <= 67 and coord.lon >= -25 and coord.lon <= -12:\n",
    "            hnitlisti.append(('a', float(coord.lat), float(coord.lon)))\n",
    "        buinn_si.append(b)\n",
    "    buinn_fl.append(a)\n",
    "print('a', len(hnitlisti), time.time() - byrjun)\n",
    "\n",
    "# Demo\n",
    "hnitlisti.append(('d', 64.132737, -21.886075))"
   ]
  },
  {
   "cell_type": "markdown",
   "id": "c9befe0c-77da-4c6c-a169-b550da856dad",
   "metadata": {},
   "source": [
    "Við getum ekki tekið myndir af miðjunni skjásins, því það eru önnur HTML-efni sem hylja gervitunglamyndirnar. Þess vegna leitum við að staði sem eru 0.002° til austurs frá myndatökustaðnum; hérna eru hnitin á skjánum fyrir þennan stað."
   ]
  },
  {
   "cell_type": "code",
   "execution_count": 4,
   "id": "027be46b-66c6-413c-b70c-e59611deffa9",
   "metadata": {},
   "outputs": [],
   "source": [
    "skhn = (746, 861)"
   ]
  },
  {
   "cell_type": "markdown",
   "id": "f7a7197e-1815-456d-bfd1-fdd04936ba0b",
   "metadata": {},
   "source": [
    "Við tökum skjámyndir af öllum stöðum á hnitlistanum.\n",
    "- URL-ið notar ISN93-hnit, en okkar hnit eru WGS84, og það er engin einföld leið til að skipta milli þeirra. Þess vegna þurfum við að leita að hnitum eins og manneskja myndi leita.\n",
    "- Á Chrome er myndasvæðið 512x512, en þegar myndin er vistuð verður hún 1024x1024."
   ]
  },
  {
   "cell_type": "code",
   "execution_count": 5,
   "id": "0b85159f-82ed-4569-b14e-8ce2a6794e94",
   "metadata": {},
   "outputs": [
    {
     "name": "stdout",
     "output_type": "stream",
     "text": [
      "0 4.660624980926514\n",
      "50 4.66438102722168\n",
      "100 4.667593002319336\n",
      "4.802032947540283\n"
     ]
    }
   ],
   "source": [
    "byrjun = time.time()\n",
    "driver = webdriver.Chrome()\n",
    "driver.set_window_size(1500, 1000)\n",
    "driver.get('https://ja.is/kort/?x=356954&y=408253&nz=17.00&type=aerialnl')\n",
    "# Accept GDPR\n",
    "try:\n",
    "    btn = driver.find_element(By.XPATH, '//a[@id=\"gdpr_banner_ok\"]')\n",
    "    btn.click()\n",
    "except NoSuchElementException:\n",
    "    pass\n",
    "# Allow cookies\n",
    "try:\n",
    "    btn = driver.find_element(By.XPATH, '//button[@class=\"ch2-btn ch2-allow-all-btn ch2-btn-primary\"]')\n",
    "    btn.click()\n",
    "except NoSuchElementException:\n",
    "    pass\n",
    "leit = driver.find_element(By.XPATH, '//input[@id=\"mapq\"]')\n",
    "for n in range(len(hnitlisti)):\n",
    "    if n % 50 == 0:\n",
    "        print(n, time.time() - byrjun)\n",
    "    hnit = hnitlisti[n]\n",
    "    # Input search term into search box\n",
    "    try:\n",
    "        z = open(mappa + hnit[0] + '_' + str(hnit[1]) + '_' + str(hnit[2]) + '.png', 'rb')\n",
    "        z.close()\n",
    "    except FileNotFoundError:\n",
    "        leit.clear()\n",
    "        leit.send_keys(str(hnit[1]) + ', ' + str(hnit[2] + 0.002))\n",
    "        leit.send_keys(Keys.RETURN)\n",
    "        time.sleep(2) # Wait for images to load\n",
    "        try:  # Place not found\n",
    "            nf = driver.find_element(By.XPATH, '//div[@class=\"row not-found\"]')\n",
    "        except NoSuchElementException:  # Place found, save and crop screenshot\n",
    "            driver.save_screenshot(mappa + hnit[0] + '_' + str(hnit[1]) + '_' + str(hnit[2]) + '.png')\n",
    "            skmynd = Image.open(mappa + hnit[0] + '_' + str(hnit[1]) + '_' + str(hnit[2]) + '.png')\n",
    "            skmynd = skmynd.crop((skhn[0] - 512, skhn[1] - 512, skhn[0] + 512, skhn[1] + 512))\n",
    "            skmynd.save(mappa + hnit[0] + '_' + str(hnit[1]) + '_' + str(hnit[2]) + '.png')\n",
    "        time.sleep(1)\n",
    "driver.close()\n",
    "print(time.time() - byrjun)"
   ]
  },
  {
   "cell_type": "markdown",
   "id": "a2a4be53-241f-47e9-8bf5-61fbb7134c93",
   "metadata": {},
   "source": [
    "## Staðsetningar vega\n",
    "Við sækjum gögn frá OpenStreetMap."
   ]
  },
  {
   "cell_type": "code",
   "execution_count": 6,
   "id": "7a890d29-f591-4459-8221-24fe5601231a",
   "metadata": {},
   "outputs": [],
   "source": [
    "fp = get_data('Iceland')"
   ]
  },
  {
   "cell_type": "markdown",
   "id": "6aec4b6f-00f5-4b0c-a66b-1940697b3d2a",
   "metadata": {},
   "source": [
    "Þetta undirforrit tekur díl á myndinni og finnur GPS-hnitin. Við notum Web Mercator."
   ]
  },
  {
   "cell_type": "code",
   "execution_count": 7,
   "id": "7b0536b8-b22f-41ed-9372-7df9a9cfb69b",
   "metadata": {},
   "outputs": [],
   "source": [
    "def pix2coord(pix, hnit_br):\n",
    "    x_t = hnit_br[1] + (pix[0] - 512) / 1024\n",
    "    lon = math.degrees(x_t * 2 * math.pi / (2 ** 17) - math.pi)\n",
    "    y_t = hnit_br[0] + (pix[1] - 512) / 1024\n",
    "    lat = math.degrees(2 * (math.atan(math.exp(math.pi - y_t * 2 * math.pi / (2 ** 17))) - math.pi / 4))\n",
    "    return (lat, lon)"
   ]
  },
  {
   "cell_type": "markdown",
   "id": "1a675895-2250-4bd4-b5fd-56386ec8da38",
   "metadata": {},
   "source": [
    "Þetta undirforrit tekur GPS-hnit og finnur dílinn á myndinni. Forritað með aðstoð frá o1-preview eftir OpenAI."
   ]
  },
  {
   "cell_type": "code",
   "execution_count": 8,
   "id": "e35165ce-22f9-4562-a902-22e3249acf47",
   "metadata": {},
   "outputs": [],
   "source": [
    "def coord2pix(lat, lon, hnit_br):\n",
    "    # Convert degrees to radians\n",
    "    lon_radians = math.radians(lon)\n",
    "    lat_radians = math.radians(lat)\n",
    "    \n",
    "    # Invert the calculation for x_t\n",
    "    x_t = ((lon_radians + math.pi) * (2 ** 17)) / (2 * math.pi)\n",
    "    # Calculate pix[0] (x-coordinate)\n",
    "    pix_x = (x_t - hnit_br[1]) * 1024 + 512\n",
    "    \n",
    "    # Invert the calculation for y_t\n",
    "    b = lat_radians / 2 + math.pi / 4\n",
    "    a = math.tan(b)\n",
    "    c = math.pi - math.log(a)\n",
    "    y_t = c * (2 ** 17) / (2 * math.pi)\n",
    "    # Calculate pix[1] (y-coordinate)\n",
    "    pix_y = (y_t - hnit_br[0]) * 1024 + 512\n",
    "    \n",
    "    return (pix_x, pix_y)"
   ]
  },
  {
   "cell_type": "markdown",
   "id": "64eecab4-b5e7-4950-ba40-4764bfe3810e",
   "metadata": {},
   "source": [
    "Við sækjum tvo lista: einn yfir vegi á Höfuðborgarsvæðinu, og einn á Akureyri."
   ]
  },
  {
   "cell_type": "code",
   "execution_count": 9,
   "id": "0530e148-868a-4de1-8204-d2e3dbd7462e",
   "metadata": {},
   "outputs": [
    {
     "name": "stdout",
     "output_type": "stream",
     "text": [
      "26.30118227005005\n"
     ]
    }
   ],
   "source": [
    "byrjun = time.time()\n",
    "veg_listi = {}\n",
    "osm_h = OSM(fp, bounding_box=[-22.140901, 63.847886, -21.152576, 64.390306])\n",
    "veg_listi['h'] = osm_h.get_network(network_type='driving')\n",
    "osm_a = OSM(fp, bounding_box=[-18.398071, 65.543087, -17.968359, 66.576398])\n",
    "veg_listi['a'] = osm_a.get_network(network_type='driving')\n",
    "print(time.time() - byrjun)"
   ]
  },
  {
   "cell_type": "markdown",
   "id": "34c32165-714b-4af9-bfb0-dab633f7954b",
   "metadata": {},
   "source": [
    "Við búum til lista yfir vegamót á hverri mynd."
   ]
  },
  {
   "cell_type": "code",
   "execution_count": 10,
   "id": "fa351946-9653-4f41-8013-8a4b53ff9074",
   "metadata": {},
   "outputs": [
    {
     "name": "stdout",
     "output_type": "stream",
     "text": [
      "0 0.2042369842529297\n",
      "10 2.4104549884796143\n",
      "20 4.90675687789917\n",
      "30 7.422173976898193\n",
      "40 10.183694839477539\n",
      "50 12.743980884552002\n",
      "60 14.753622055053711\n",
      "70 16.561851978302002\n",
      "80 18.098968744277954\n",
      "90 20.861990928649902\n",
      "100 23.463507890701294\n",
      "110 25.24231195449829\n",
      "120 27.587310791015625\n",
      "130 29.87397003173828\n",
      "29.910722732543945\n"
     ]
    }
   ],
   "source": [
    "byrjun = time.time()\n",
    "X_gogn = []\n",
    "y_gogn = []\n",
    "bd_all = {}\n",
    "for st in ['h', 'a']:\n",
    "    vegir = veg_listi[st]\n",
    "    bd = []\n",
    "    for k in range(vegir.shape[0]):\n",
    "        bns = vegir['geometry'][k].bounds\n",
    "        bd.append(bns)\n",
    "    bd_all[st] = bd\n",
    "for n in range(len(hnitlisti)):\n",
    "    if n % 10 == 0:\n",
    "        print(n, time.time() - byrjun)\n",
    "    hnit = hnitlisti[n]\n",
    "    # Open image\n",
    "    try:\n",
    "        gtm = Image.open(mappa + hnit[0] + '_' + str(hnit[1]) + '_' + str(hnit[2]) + '.png')\n",
    "        dilar = gtm.load()\n",
    "    except FileNotFoundError:\n",
    "        continue\n",
    "    # Convert coordinates\n",
    "    y_n = 1 / (2 * math.pi) * 2 ** 17 * (math.pi - math.log(math.tan(math.pi / 4 + math.radians(hnit[1]) / 2))) - 0.5\n",
    "    y_s = 1 / (2 * math.pi) * 2 ** 17 * (math.pi - math.log(math.tan(math.pi / 4 + math.radians(hnit[1]) / 2))) + 0.5\n",
    "    if hnit[0] == 'd':\n",
    "        vegir = veg_listi['h']\n",
    "    else:\n",
    "        vegir = veg_listi[hnit[0]]\n",
    "    hnit_br = (1 / (2 * math.pi) * 2 ** 17 * (math.pi - math.log(math.tan(math.pi / 4 + math.radians(hnit[1]) / 2))),\n",
    "               1 / (2 * math.pi) * 2 ** 17 * (math.pi + math.radians(hnit[2])))\n",
    "    # Buildings\n",
    "    y_mynd = np.zeros((1, 1, 1024, 1024))\n",
    "    if hnit[0] == 'd':\n",
    "        bd = bd_all['h']\n",
    "    else:\n",
    "        bd = bd_all[hnit[0]]\n",
    "    hnitskra = {}\n",
    "    for v in range(vegir.shape[0]):\n",
    "        bns = bd[v]\n",
    "        if bns[0] > hnit[2] + 0.0014 or bns[1] > hnit[1] + 0.0008 or bns[2] < hnit[2] - 0.0014 or bns[3] < hnit[1] - 0.0008:\n",
    "            continue\n",
    "        NW = coord2pix(bns[3], bns[0], hnit_br)\n",
    "        SE = coord2pix(bns[1], bns[2], hnit_br)\n",
    "        if NW[0] > 1024 or NW[1] > 1024 or SE[0] < 0 or SE[1] < 0:\n",
    "            continue\n",
    "        for p in vegir.loc[v, 'geometry'].geoms:\n",
    "            x, y = p.xy\n",
    "            try:\n",
    "                hnitskra[(y[0], x[0])] += 1\n",
    "            except KeyError:\n",
    "                hnitskra[(y[0], x[0])] = 1\n",
    "            try:\n",
    "                hnitskra[(y[1], x[1])] += 1\n",
    "            except KeyError:\n",
    "                hnitskra[(y[1], x[1])] = 1\n",
    "    mot = []\n",
    "    for p in hnitskra:\n",
    "        if hnitskra[p] > 2:\n",
    "            ct = coord2pix(p[0], p[1], hnit_br)\n",
    "            if ct[0] >= 0 and ct[0] < 1024 and ct[1] >= 0 and ct[1] < 1024:\n",
    "                mot.append(p)\n",
    "    if hnit[0] != 'd' and len(mot) > 0:\n",
    "        X_gogn.append(torch.tensor(np.transpose(np.array(gtm.getdata()).reshape(1024, 1024, 3), \n",
    "                                                (2, 0, 1)).reshape(1, 3, 1024, 1024), dtype=torch.float32).to(device))\n",
    "        y_gogn.append(torch.tensor(np.array(mot).reshape(1, -1, 2), dtype=torch.float32).to(device))\n",
    "print(time.time() - byrjun)"
   ]
  },
  {
   "cell_type": "code",
   "execution_count": 11,
   "id": "f33e79e8-a454-43dc-b4ef-3ae3433ed6bf",
   "metadata": {},
   "outputs": [],
   "source": [
    "X_train, X_test, y_train, y_test = train_test_split(X_gogn, y_gogn)"
   ]
  },
  {
   "cell_type": "markdown",
   "id": "02e1c583-8900-4bd8-8a8c-ffe2817b22e4",
   "metadata": {},
   "source": [
    "## Líkan\n",
    "Hérna er CNN til að greina vegamót á gervitunglamyndum. Forritað með aðstoð frá o1-preview."
   ]
  },
  {
   "cell_type": "code",
   "execution_count": 12,
   "id": "3ee8f219-7df7-42c3-8bb2-acf494c9cae5",
   "metadata": {},
   "outputs": [],
   "source": [
    "no_points_embedding = nn.Parameter(torch.randn(128).to(device))"
   ]
  },
  {
   "cell_type": "code",
   "execution_count": 13,
   "id": "2c26b9c6-7105-41bb-9e36-a26fd7c8133b",
   "metadata": {},
   "outputs": [],
   "source": [
    "# Define a CNN for image processing (ResNet18 as an example)\n",
    "class ImageEncoder(nn.Module):\n",
    "    def __init__(self):\n",
    "        super(ImageEncoder, self).__init__()\n",
    "        # Using a pre-trained ResNet18 model\n",
    "        self.resnet = models.resnet18(pretrained=True)\n",
    "        # Modify the last layer to output a 128-dimensional feature vector\n",
    "        self.resnet.fc = nn.Linear(self.resnet.fc.in_features, 128)\n",
    "\n",
    "    def forward(self, images):\n",
    "        return self.resnet(images)"
   ]
  },
  {
   "cell_type": "code",
   "execution_count": 14,
   "id": "6ff1e48e-bdc0-4de2-b299-0f4862de3a84",
   "metadata": {},
   "outputs": [],
   "source": [
    "# Define the LSTM-based embedding model for coordinates\n",
    "class CoordinateEmbedding(nn.Module):\n",
    "    def __init__(self, input_size, hidden_size, output_size, num_layers=1):\n",
    "        super(CoordinateEmbedding, self).__init__()\n",
    "        self.lstm = nn.LSTM(input_size, hidden_size, num_layers, batch_first=True)\n",
    "        self.fc = nn.Linear(hidden_size, output_size)\n",
    "\n",
    "    def forward(self, coordinates):\n",
    "        lstm_out, _ = self.lstm(coordinates)\n",
    "        embedding = self.fc(lstm_out[:, -1, :])  # Use last hidden state as embedding\n",
    "        return embedding"
   ]
  },
  {
   "cell_type": "code",
   "execution_count": 15,
   "id": "8202373c-2123-4d7d-bed2-f5eb513eb5a0",
   "metadata": {},
   "outputs": [],
   "source": [
    "# Combine both models into a final training model\n",
    "class SatelliteModel(nn.Module):\n",
    "    def __init__(self, image_encoder, coordinate_encoder, embedding_size=128):\n",
    "        super(SatelliteModel, self).__init__()\n",
    "        self.image_encoder = image_encoder\n",
    "        self.coordinate_encoder = coordinate_encoder\n",
    "        # Define a special embedding for \"no points\" (either zero or learnable)\n",
    "        self.no_points_embedding = no_points_embedding\n",
    "\n",
    "    def forward(self, images, coordinates=None):\n",
    "        # Encode the image\n",
    "        image_features = self.image_encoder(images)  # Shape: (batch_size, 128)\n",
    "        \n",
    "        if coordinates is not None and coordinates.shape[1] > 0:\n",
    "            # If coordinates exist, get the coordinate embedding\n",
    "            coordinate_embedding = self.coordinate_encoder(coordinates)\n",
    "        else:\n",
    "            # If no coordinates, use the \"no points\" embedding\n",
    "            coordinate_embedding = self.no_points_embedding.expand(images.size(0), -1)\n",
    "\n",
    "        return image_features, coordinate_embedding"
   ]
  },
  {
   "cell_type": "code",
   "execution_count": 16,
   "id": "497bbeab-4cac-430a-9faa-85243e850acd",
   "metadata": {},
   "outputs": [],
   "source": [
    "class CoordinateDecoder(nn.Module):\n",
    "    def __init__(self, embedding_size, hidden_size, output_size=2, num_layers=1):\n",
    "        super(CoordinateDecoder, self).__init__()\n",
    "        self.hidden_size = hidden_size\n",
    "        self.num_layers = num_layers\n",
    "\n",
    "        # The initial hidden state is derived from the embedding\n",
    "        self.fc_embed = nn.Linear(embedding_size, hidden_size * num_layers)\n",
    "\n",
    "        # LSTM decoder\n",
    "        self.lstm = nn.LSTM(input_size=output_size, hidden_size=hidden_size, num_layers=num_layers, batch_first=True)\n",
    "        self.fc_out = nn.Linear(hidden_size, output_size)\n",
    "        self.fc_stop = nn.Linear(hidden_size, 1)  # Predicts probability to stop\n",
    "\n",
    "    def forward(self, embedding, max_seq_length):\n",
    "        batch_size = embedding.size(0)\n",
    "\n",
    "        # Initialize hidden state from embedding\n",
    "        h_0 = self.fc_embed(embedding)\n",
    "        h_0 = h_0.view(self.num_layers, batch_size, self.hidden_size)\n",
    "        c_0 = torch.zeros_like(h_0)  # You can also learn c_0 or set it differently\n",
    "\n",
    "        # Prepare the initial input (e.g., start token or zeros)\n",
    "        decoder_input = torch.zeros(batch_size, 1, 2).to(embedding.device)  # Starting with zero coordinates\n",
    "\n",
    "        outputs = []\n",
    "        stop_probs = []\n",
    "        for t in range(max_seq_length):\n",
    "            # LSTM step\n",
    "            output, (h_0, c_0) = self.lstm(decoder_input, (h_0, c_0))\n",
    "            coord_pred = self.fc_out(output)\n",
    "            stop_logit = self.fc_stop(output)\n",
    "            stop_prob = torch.sigmoid(stop_logit)\n",
    "\n",
    "            outputs.append(coord_pred)\n",
    "            stop_probs.append(stop_prob)\n",
    "\n",
    "            # Check if all sequences have predicted stop\n",
    "            if torch.all(stop_prob > 0.5):\n",
    "                break\n",
    "\n",
    "            decoder_input = coord_pred  # Or use teacher forcing\n",
    "            \n",
    "        if len(outputs) == 0:\n",
    "            outputs = torch.tensor(np.zeros((1, 0, 2)), dtype=torch.float32).to(device)\n",
    "            stop_probs = torch.tensor(np.zeros((0, 1)), dtype=torch.float32).to(device)\n",
    "            return outputs, stop_probs\n",
    "\n",
    "        outputs = torch.cat(outputs, dim=1)\n",
    "        stop_probs = torch.cat(stop_probs, dim=1)\n",
    "        return outputs, stop_probs"
   ]
  },
  {
   "cell_type": "code",
   "execution_count": 17,
   "id": "eaad05c2-b94a-447e-9197-2b5d5f054cf5",
   "metadata": {},
   "outputs": [],
   "source": [
    "def chamfer_distance(pred_points, target_points):\n",
    "    \"\"\"\n",
    "    pred_points: List of tensors of shape (Ni, D), where Ni is the number of points in the i-th prediction.\n",
    "    target_points: List of tensors of shape (Mi, D), where Mi is the number of points in the i-th target.\n",
    "    \"\"\"\n",
    "    total_loss = 0.0\n",
    "    batch_size = len(pred_points)\n",
    "    for pred, target in zip(pred_points, target_points):\n",
    "        if pred.numel() == 0 and target.numel() == 0:\n",
    "            # Both sequences are empty; loss is zero.\n",
    "            loss = 0.0\n",
    "        elif pred.numel() == 0 or target.numel() == 0:\n",
    "            # One sequence is empty; define loss appropriately (e.g., sum of squared norms).\n",
    "            non_empty = pred if pred.numel() != 0 else target\n",
    "            loss = non_empty.pow(2).sum()\n",
    "        else:\n",
    "            # Compute pairwise distances.\n",
    "            diff = pred.unsqueeze(1) - target.unsqueeze(0)  # Shape: (Ni, Mi, D)\n",
    "            dist = torch.norm(diff, dim=2)  # Shape: (Ni, Mi)\n",
    "            # For each point in pred, find the closest point in target.\n",
    "            min_pred_to_target = dist.min(dim=1)[0]\n",
    "            # For each point in target, find the closest point in pred.\n",
    "            min_target_to_pred = dist.min(dim=0)[0]\n",
    "            # Sum the minimal distances.\n",
    "            loss = min_pred_to_target.sum() + min_target_to_pred.sum()\n",
    "        total_loss += loss\n",
    "    return total_loss / batch_size"
   ]
  },
  {
   "cell_type": "code",
   "execution_count": 18,
   "id": "fbb89dbc-5300-4da1-a486-fbf879efa156",
   "metadata": {},
   "outputs": [],
   "source": [
    "epochs = 10"
   ]
  },
  {
   "cell_type": "code",
   "execution_count": 19,
   "id": "76f84000-11c7-472b-a90f-9ff339a42297",
   "metadata": {},
   "outputs": [
    {
     "name": "stderr",
     "output_type": "stream",
     "text": [
      "WARNING: /Library/Frameworks/Python.framework/Versions/3.10/lib/python3.10/site-packages/torchvision/models/_utils.py:208: UserWarning: The parameter 'pretrained' is deprecated since 0.13 and may be removed in the future, please use 'weights' instead.\n",
      "  warnings.warn(\n",
      "\n",
      "WARNING: /Library/Frameworks/Python.framework/Versions/3.10/lib/python3.10/site-packages/torchvision/models/_utils.py:223: UserWarning: Arguments other than a weight enum or `None` for 'weights' are deprecated since 0.13 and may be removed in the future. The current behavior is equivalent to passing `weights=ResNet18_Weights.IMAGENET1K_V1`. You can also use `weights=ResNet18_Weights.DEFAULT` to get the most up-to-date weights.\n",
      "  warnings.warn(msg)\n",
      "\n"
     ]
    },
    {
     "name": "stdout",
     "output_type": "stream",
     "text": [
      "Epoch [1/10], Time: 17.78972291946411\n",
      "Epoch [2/10], Time: 34.52546525001526\n",
      "Epoch [3/10], Time: 51.32237911224365\n",
      "Epoch [4/10], Time: 68.1859540939331\n",
      "Epoch [5/10], Time: 85.03585910797119\n",
      "Epoch [6/10], Time: 101.77381706237793\n",
      "Epoch [7/10], Time: 118.77003288269043\n",
      "Epoch [8/10], Time: 135.59029006958008\n",
      "Epoch [9/10], Time: 152.4352011680603\n",
      "Epoch [10/10], Time: 169.2556459903717\n"
     ]
    }
   ],
   "source": [
    "byrjun = time.time()\n",
    "# Initialize both models\n",
    "image_encoder = ImageEncoder()\n",
    "coordinate_encoder = CoordinateEmbedding(input_size=2, hidden_size=128, output_size=128)\n",
    "\n",
    "# Combine into final model\n",
    "likan = SatelliteModel(image_encoder, coordinate_encoder).to(device)\n",
    "\n",
    "# Define a loss function and optimizer\n",
    "criterion = nn.MSELoss()  # Since we are predicting embeddings, we can use MSELoss\n",
    "optimizer = optim.Adam(likan.parameters(), lr=1e-4)\n",
    "\n",
    "train_loss = []\n",
    "test_loss = []\n",
    "\n",
    "for e in range(epochs):\n",
    "    likan.eval()\n",
    "    with torch.no_grad():\n",
    "        rl = 0.0\n",
    "        for i in range(len(X_train)):\n",
    "            image_features, coordinate_embedding = likan(X_train[i], y_train[i])\n",
    "            loss = criterion(image_features, coordinate_embedding)\n",
    "            rl += loss.item()\n",
    "        train_loss.append(rl / len(X_train))\n",
    "        rl = 0.0\n",
    "        for i in range(len(X_test)):\n",
    "            image_features, coordinate_embedding = likan(X_test[i], y_test[i])\n",
    "            loss = criterion(image_features, coordinate_embedding)\n",
    "            rl += loss.item()\n",
    "        test_loss.append(rl / len(X_test))\n",
    "    \n",
    "    likan.train()\n",
    "    for i in range(len(X_train)):\n",
    "    # Forward pass: get image features and coordinate embeddings\n",
    "        image_features, coordinate_embedding = likan(X_train[i], y_train[i])\n",
    "        \n",
    "        # Loss: comparing image features with coordinate embeddings\n",
    "        loss = criterion(image_features, coordinate_embedding)\n",
    "        \n",
    "        # Backward pass and optimization\n",
    "        optimizer.zero_grad()\n",
    "        loss.backward()\n",
    "        optimizer.step()\n",
    "\n",
    "    # Print loss for the current epoch\n",
    "    print(f'Epoch [{e+1}/{epochs}], Time: {time.time() - byrjun}')\n",
    "\n",
    "likan.eval()\n",
    "with torch.no_grad():\n",
    "    rl = 0.0\n",
    "    for i in range(len(X_train)):\n",
    "        image_features, coordinate_embedding = likan(X_train[i], y_train[i])\n",
    "        loss = criterion(image_features, coordinate_embedding)\n",
    "        rl += loss.item()\n",
    "    train_loss.append(rl / len(X_train))\n",
    "    rl = 0.0\n",
    "    for i in range(len(X_test)):\n",
    "        image_features, coordinate_embedding = likan(X_test[i], y_test[i])\n",
    "        loss = criterion(image_features, coordinate_embedding)\n",
    "        rl += loss.item()\n",
    "    test_loss.append(rl / len(X_test))"
   ]
  },
  {
   "cell_type": "code",
   "execution_count": 20,
   "id": "0eafe22a-1754-4f39-bbd8-c47b0e957908",
   "metadata": {},
   "outputs": [],
   "source": [
    "max_seq_length = max([z.shape[1] for z in X_train])"
   ]
  },
  {
   "cell_type": "code",
   "execution_count": 21,
   "id": "14661b8c-e8d6-4570-8732-6166a9fc6f41",
   "metadata": {},
   "outputs": [
    {
     "name": "stdout",
     "output_type": "stream",
     "text": [
      "Epoch [1/10], Decoder Loss: 336.3788757324219, Time: 5.037570953369141\n",
      "Epoch [2/10], Decoder Loss: 390.5069885253906, Time: 9.139863967895508\n",
      "Epoch [3/10], Decoder Loss: 305.81256103515625, Time: 12.246745109558105\n",
      "Epoch [4/10], Decoder Loss: 295.08905029296875, Time: 15.193290948867798\n",
      "Epoch [5/10], Decoder Loss: 287.8038330078125, Time: 18.171977996826172\n",
      "Epoch [6/10], Decoder Loss: 281.9654541015625, Time: 21.119367122650146\n",
      "Epoch [7/10], Decoder Loss: 276.78594970703125, Time: 24.07745885848999\n",
      "Epoch [8/10], Decoder Loss: 271.97332763671875, Time: 27.038671016693115\n",
      "Epoch [9/10], Decoder Loss: 267.3982849121094, Time: 29.995292901992798\n",
      "Epoch [10/10], Decoder Loss: 262.992919921875, Time: 32.94360589981079\n"
     ]
    }
   ],
   "source": [
    "byrjun = time.time()\n",
    "# Initialize the decoder\n",
    "coordinate_decoder = CoordinateDecoder(embedding_size=128, hidden_size=128).to(device)\n",
    "\n",
    "# Define optimizer\n",
    "decoder_optimizer = optim.Adam(coordinate_decoder.parameters(), lr=1e-4)\n",
    "\n",
    "# Training loop for the decoder\n",
    "for e in range(epochs):\n",
    "    likan.eval()\n",
    "    coordinate_decoder.train()\n",
    "\n",
    "    for i in range(len(X_train)):\n",
    "        # Get image embeddings\n",
    "        with torch.no_grad():\n",
    "            image_embeddings = likan.image_encoder(X_train[i])\n",
    "\n",
    "        # Forward pass thru decoder\n",
    "        seq_length = y_train[i].size(1)\n",
    "        output_sequences, stop_probs = coordinate_decoder(image_embeddings, seq_length)\n",
    "\n",
    "        # Compute loss\n",
    "        loss = chamfer_distance(output_sequences, y_train[i])\n",
    "\n",
    "        # Backpropagation and optimization\n",
    "        decoder_optimizer.zero_grad()\n",
    "        loss.backward()\n",
    "        decoder_optimizer.step()\n",
    "\n",
    "    print(f'Epoch [{e+1}/{epochs}], Decoder Loss: {loss.item()}, Time: {time.time() - byrjun}')"
   ]
  },
  {
   "cell_type": "markdown",
   "id": "138feb3a-b88e-4217-9ce4-8defa7708a4d",
   "metadata": {},
   "source": [
    "## Mat\n",
    "Það var meira en 100 án þjálfunar."
   ]
  },
  {
   "cell_type": "code",
   "execution_count": 22,
   "id": "a6df7789-2a00-4a20-a5d3-a5834dc959f4",
   "metadata": {},
   "outputs": [
    {
     "name": "stdout",
     "output_type": "stream",
     "text": [
      "Train loss: 0.0031291566204010067\n",
      "Test loss: 0.0042327286657662345\n"
     ]
    }
   ],
   "source": [
    "print('Train loss:', train_loss[-1])\n",
    "print('Test loss:', test_loss[-1])"
   ]
  },
  {
   "cell_type": "code",
   "execution_count": 23,
   "id": "b817310d-0cb5-49ea-8344-69f8bf726938",
   "metadata": {},
   "outputs": [
    {
     "data": {
      "image/png": "[encoded data removed]",
      "text/plain": [
       "<Figure size 640x480 with 1 Axes>"
      ]
     },
     "metadata": {},
     "output_type": "display_data"
    }
   ],
   "source": [
    "plt.plot(train_loss, label='Train')\n",
    "plt.plot(test_loss, label='Test')\n",
    "plt.ylim(bottom=0)\n",
    "plt.title('Loss over epochs')\n",
    "plt.xlabel('Epoch')\n",
    "plt.ylabel('Loss')\n",
    "plt.legend()\n",
    "plt.show()"
   ]
  },
  {
   "cell_type": "code",
   "execution_count": 24,
   "id": "d495a6dc-1459-4f40-9551-8c1486aec6cb",
   "metadata": {},
   "outputs": [
    {
     "data": {
      "image/png": "[encoded data removed]",
      "text/plain": [
       "<Figure size 640x480 with 1 Axes>"
      ]
     },
     "metadata": {},
     "output_type": "display_data"
    }
   ],
   "source": [
    "plt.plot(train_loss[1:], label='Train')\n",
    "plt.plot(test_loss[1:], label='Test')\n",
    "plt.ylim(bottom=0)\n",
    "plt.title('Loss over epochs')\n",
    "plt.xlabel('Epoch')\n",
    "plt.ylabel('Loss')\n",
    "plt.legend()\n",
    "plt.show()"
   ]
  },
  {
   "cell_type": "markdown",
   "id": "5f920db7-46af-4a49-9ccd-9d4e887e41ef",
   "metadata": {},
   "source": [
    "### Í VINNSLU"
   ]
  },
  {
   "cell_type": "code",
   "execution_count": 25,
   "id": "02648ef2-dafe-49c3-8f7a-804fa911a2d3",
   "metadata": {},
   "outputs": [
    {
     "ename": "NameError",
     "evalue": "name 'images' is not defined",
     "output_type": "error",
     "traceback": [
      "\u001b[0;31m---------------------------------------------------------------------------\u001b[0m",
      "\u001b[0;31mNameError\u001b[0m                                 Traceback (most recent call last)",
      "Cell \u001b[0;32mIn[25], line 6\u001b[0m\n\u001b[1;32m      2\u001b[0m coordinate_decoder\u001b[38;5;241m.\u001b[39meval()\n\u001b[1;32m      4\u001b[0m \u001b[38;5;28;01mwith\u001b[39;00m torch\u001b[38;5;241m.\u001b[39mno_grad():\n\u001b[1;32m      5\u001b[0m     \u001b[38;5;66;03m# Get image embeddings\u001b[39;00m\n\u001b[0;32m----> 6\u001b[0m     image_embeddings \u001b[38;5;241m=\u001b[39m likan\u001b[38;5;241m.\u001b[39mimage_encoder(\u001b[43mimages\u001b[49m)\n\u001b[1;32m      8\u001b[0m     \u001b[38;5;66;03m# Decide on the maximum sequence length you want to generate\u001b[39;00m\n\u001b[1;32m      9\u001b[0m     max_seq_length \u001b[38;5;241m=\u001b[39m \u001b[38;5;241m20\u001b[39m  \u001b[38;5;66;03m# Adjust as needed\u001b[39;00m\n",
      "\u001b[0;31mNameError\u001b[0m: name 'images' is not defined"
     ]
    }
   ],
   "source": [
    "likan.eval()\n",
    "coordinate_decoder.eval()\n",
    "\n",
    "with torch.no_grad():\n",
    "    # Get image embeddings\n",
    "    image_embeddings = likan.image_encoder(images)\n",
    "\n",
    "    # Decide on the maximum sequence length you want to generate\n",
    "    max_seq_length = 20  # Adjust as needed\n",
    "\n",
    "    # Generate coordinate sequences\n",
    "    generated_sequences = coordinate_decoder(image_embeddings, max_seq_length)\n",
    "\n",
    "    # Now 'generated_sequences' contains the predicted coordinates"
   ]
  },
  {
   "cell_type": "code",
   "execution_count": null,
   "id": "d99e8d55-844f-4daf-8842-3284d8421836",
   "metadata": {},
   "outputs": [],
   "source": [
    "# Assuming 'generated_sequences' is of shape (batch_size, seq_length, 2)\n",
    "coordinates = generated_sequences[0].cpu().numpy()  # Get coordinates for the first image\n",
    "\n",
    "# Plot the coordinates\n",
    "plt.figure()\n",
    "plt.plot(coordinates[:, 1], coordinates[:, 0], marker='o')  # Longitude vs Latitude\n",
    "plt.title('Predicted Coordinates')\n",
    "plt.xlabel('Longitude')\n",
    "plt.ylabel('Latitude')\n",
    "plt.show()"
   ]
  },
  {
   "cell_type": "markdown",
   "id": "9532eee4-7f2b-43b8-ae3b-f75f05ba8560",
   "metadata": {},
   "source": [
    "## Lokaorð\n",
    "Greiningin er enn í vinnslu."
   ]
  }
 ],
 "metadata": {
  "kernelspec": {
   "display_name": "Python 3 (ipykernel)",
   "language": "python",
   "name": "python3"
  },
  "language_info": {
   "codemirror_mode": {
    "name": "ipython",
    "version": 3
   },
   "file_extension": ".py",
   "mimetype": "text/x-python",
   "name": "python",
   "nbconvert_exporter": "python",
   "pygments_lexer": "ipython3",
   "version": "3.10.0"
  }
 },
 "nbformat": 4,
 "nbformat_minor": 5
}
