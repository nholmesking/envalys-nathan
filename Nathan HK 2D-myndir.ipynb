{
 "cells": [
  {
   "cell_type": "markdown",
   "id": "cbb1f41a-1e42-4d6d-bc9c-f9dcd67e2dfa",
   "metadata": {},
   "source": [
    "# Byggingagreining á gervitunglamyndum\n",
    "Nathan HK"
   ]
  },
  {
   "cell_type": "code",
   "execution_count": 2,
   "id": "c79a1311-7a3d-44c3-8912-8d6052611252",
   "metadata": {},
   "outputs": [],
   "source": [
    "from io import BytesIO\n",
    "import math\n",
    "import matplotlib.pyplot as plt\n",
    "import numpy as np\n",
    "from PIL import Image\n",
    "from pyrosm import OSM\n",
    "from pyrosm import get_data\n",
    "import pywikibot\n",
    "from selenium.common.exceptions import NoSuchElementException\n",
    "from selenium import webdriver\n",
    "from selenium.webdriver.common.by import By\n",
    "from selenium.webdriver.common.keys import Keys\n",
    "from shapely.geometry import Point\n",
    "import sklearn as sk\n",
    "from sklearn.model_selection import train_test_split\n",
    "import time\n",
    "import torch\n",
    "import torch.nn as nn\n",
    "import torch.nn.functional as F"
   ]
  },
  {
   "cell_type": "code",
   "execution_count": 3,
   "id": "73776003-4532-416f-8943-3f9ea869de4f",
   "metadata": {},
   "outputs": [],
   "source": [
    "mappa = '/Users/002-nathan/Desktop/Envalys/gtm/'\n",
    "device = torch.device('mps' if torch.backends.mps.is_available() else 'cpu')"
   ]
  },
  {
   "cell_type": "markdown",
   "id": "35614a2d-fc85-4085-b036-144f8ce4cbe7",
   "metadata": {},
   "source": [
    "## Inngangsorð\n",
    "Við viljum þjálfa gervigreindarlíkan til að greina byggingar á gervitunglamyndum. Við þurfum tvenn gögn: gervitunglamyndir og staðsetningar bygginga.\n",
    "- **Gervitunglamyndir:** Við notum skjámyndatökur af Já.is. Ég veit ekki hvort þetta sé löglegt, en ég er ekki með neinar betri leiðir.\n",
    "- **Staðsetningar bygginga:** Við notum OpenStreetMap.\n",
    "\n",
    "Ég nota Apple M1 Pro-örgjörvi með 16 GB minni."
   ]
  },
  {
   "cell_type": "markdown",
   "id": "587ca15a-f705-45bc-a0a4-8c96bcfded27",
   "metadata": {},
   "source": [
    "## Gervitunglamyndir\n",
    "Við notum lista yfir greinar á ensku Wikipediunni um staði á Höfuðborgarsvæðinu og Akureyri. Gögnin á Landsbyggðinni eru ekki nóg nákvæm fyrir þetta líkan."
   ]
  },
  {
   "cell_type": "code",
   "execution_count": 4,
   "id": "611f2f21-144c-4ed2-abb1-c98e8e015757",
   "metadata": {},
   "outputs": [
    {
     "name": "stdout",
     "output_type": "stream",
     "text": [
      "54\n",
      "h 120 100.04301071166992\n",
      "6\n",
      "a 130 115.1063187122345\n"
     ]
    }
   ],
   "source": [
    "byrjun = time.time()\n",
    "hnitlisti = []\n",
    "wiki = pywikibot.Site('en', 'wikipedia')\n",
    "\n",
    "# Capital Region\n",
    "flokkur_h = pywikibot.Category(wiki, 'Populated places in Capital Region (Iceland)')\n",
    "undir = list(flokkur_h.subcategories(recurse=3))\n",
    "buinn_fl = []  # Completed categories\n",
    "buinn_si = []  # Completed pages\n",
    "print(len(undir))\n",
    "for a in undir:\n",
    "    if a in buinn_fl:  # Already did category\n",
    "        continue\n",
    "    for b in a.articles():\n",
    "        if b in buinn_si:  # Already did page\n",
    "            continue\n",
    "        coord = b.coordinates(primary_only=True)\n",
    "        # Coordinates are invalid outside latitude [63, 67] and longitude [-25, -12]\n",
    "        if coord is not None and coord.lat >= 63 and coord.lat <= 67 and coord.lon >= -25 and coord.lon <= -12:\n",
    "            hnitlisti.append(('h', float(coord.lat), float(coord.lon)))\n",
    "        buinn_si.append(b)\n",
    "    buinn_fl.append(a)\n",
    "print('h', len(hnitlisti), time.time() - byrjun)\n",
    "\n",
    "# Akureyri\n",
    "flokkur_a = pywikibot.Category(wiki, 'Akureyri')\n",
    "undir = list(flokkur_a.subcategories(recurse=3))\n",
    "buinn_fl = []  # Completed categories\n",
    "buinn_si = []  # Completed pages\n",
    "print(len(undir))\n",
    "for a in undir:\n",
    "    if a in buinn_fl:  # Already did category\n",
    "        continue\n",
    "    for b in a.articles():\n",
    "        if b in buinn_si:  # Already did page\n",
    "            continue\n",
    "        coord = b.coordinates(primary_only=True)\n",
    "        # Coordinates are invalid outside latitude [63, 67] and longitude [-25, -12]\n",
    "        if coord is not None and coord.lat >= 63 and coord.lat <= 67 and coord.lon >= -25 and coord.lon <= -12:\n",
    "            hnitlisti.append(('a', float(coord.lat), float(coord.lon)))\n",
    "        buinn_si.append(b)\n",
    "    buinn_fl.append(a)\n",
    "print('a', len(hnitlisti), time.time() - byrjun)"
   ]
  },
  {
   "cell_type": "markdown",
   "id": "c9befe0c-77da-4c6c-a169-b550da856dad",
   "metadata": {},
   "source": [
    "Við getum ekki tekið myndir af miðjunni skjásins, því það eru önnur HTML-efni sem hylja gervitunglamyndirnar. Þess vegna leitum við að staði sem eru 0.002° til austurs frá myndatökustaðnum; hérna eru hnitin á skjánum fyrir þennan stað."
   ]
  },
  {
   "cell_type": "code",
   "execution_count": 5,
   "id": "027be46b-66c6-413c-b70c-e59611deffa9",
   "metadata": {},
   "outputs": [],
   "source": [
    "skhn = (746, 861)"
   ]
  },
  {
   "cell_type": "markdown",
   "id": "f7a7197e-1815-456d-bfd1-fdd04936ba0b",
   "metadata": {},
   "source": [
    "Við tökum skjámyndir af öllum stöðum á hnitlistanum.\n",
    "- URL-ið notar ISN93-hnit, en okkar hnit eru WGS84, og það er engin einföld leið til að skipta milli þeirra. Þess vegna þurfum við að leita að hnitum eins og manneskja myndi leita.\n",
    "- Á Chrome er myndasvæðið 512x512, en þegar myndin er vistuð verður hún 1024x1024."
   ]
  },
  {
   "cell_type": "code",
   "execution_count": 6,
   "id": "0b85159f-82ed-4569-b14e-8ce2a6794e94",
   "metadata": {},
   "outputs": [
    {
     "name": "stdout",
     "output_type": "stream",
     "text": [
      "0 4.565173149108887\n",
      "50 4.568786144256592\n",
      "100 4.573569059371948\n",
      "4.649569034576416\n"
     ]
    }
   ],
   "source": [
    "byrjun = time.time()\n",
    "driver = webdriver.Chrome()\n",
    "driver.set_window_size(1500, 1000)\n",
    "driver.get('https://ja.is/kort/?x=356954&y=408253&nz=17.00&type=aerialnl')\n",
    "# Accept GDPR\n",
    "try:\n",
    "    btn = driver.find_element(By.XPATH, '//a[@id=\"gdpr_banner_ok\"]')\n",
    "    btn.click()\n",
    "except NoSuchElementException:\n",
    "    pass\n",
    "# Allow cookies\n",
    "try:\n",
    "    btn = driver.find_element(By.XPATH, '//button[@class=\"ch2-btn ch2-allow-all-btn ch2-btn-primary\"]')\n",
    "    btn.click()\n",
    "except NoSuchElementException:\n",
    "    pass\n",
    "leit = driver.find_element(By.XPATH, '//input[@id=\"mapq\"]')\n",
    "for n in range(len(hnitlisti)):\n",
    "    if n % 50 == 0:\n",
    "        print(n, time.time() - byrjun)\n",
    "    hnit = hnitlisti[n]\n",
    "    # Input search term into search box\n",
    "    try:\n",
    "        z = open(mappa + hnit[0] + '_' + str(hnit[1]) + '_' + str(hnit[2]) + '.png', 'rb')\n",
    "        z.close()\n",
    "    except FileNotFoundError:\n",
    "        leit.clear()\n",
    "        leit.send_keys(str(hnit[1]) + ', ' + str(hnit[2] + 0.002))\n",
    "        leit.send_keys(Keys.RETURN)\n",
    "        time.sleep(2) # Wait for images to load\n",
    "        try:  # Place not found\n",
    "            nf = driver.find_element(By.XPATH, '//div[@class=\"row not-found\"]')\n",
    "        except NoSuchElementException:  # Place found, save and crop screenshot\n",
    "            driver.save_screenshot(mappa + hnit[0] + '_' + str(hnit[1]) + '_' + str(hnit[2]) + '.png')\n",
    "            skmynd = Image.open(mappa + hnit[0] + '_' + str(hnit[1]) + '_' + str(hnit[2]) + '.png')\n",
    "            skmynd = skmynd.crop((skhn[0] - 512, skhn[1] - 512, skhn[0] + 512, skhn[1] + 512))\n",
    "            skmynd.save(mappa + hnit[0] + '_' + str(hnit[1]) + '_' + str(hnit[2]) + '.png')\n",
    "        time.sleep(1)\n",
    "driver.close()\n",
    "print(time.time() - byrjun)"
   ]
  },
  {
   "cell_type": "markdown",
   "id": "a2a4be53-241f-47e9-8bf5-61fbb7134c93",
   "metadata": {},
   "source": [
    "## Staðsetningar bygginga\n",
    "Við sækjum gögn frá OpenStreetMap."
   ]
  },
  {
   "cell_type": "code",
   "execution_count": 7,
   "id": "7a890d29-f591-4459-8221-24fe5601231a",
   "metadata": {},
   "outputs": [],
   "source": [
    "fp = get_data('Iceland')"
   ]
  },
  {
   "cell_type": "markdown",
   "id": "6aec4b6f-00f5-4b0c-a66b-1940697b3d2a",
   "metadata": {},
   "source": [
    "Þetta undirforrit tekur díl á myndinni og finnur GPS-hnitin. Við notum Web Mercator."
   ]
  },
  {
   "cell_type": "code",
   "execution_count": 8,
   "id": "7b0536b8-b22f-41ed-9372-7df9a9cfb69b",
   "metadata": {},
   "outputs": [],
   "source": [
    "def pix2coord(pix, hnit_br):\n",
    "    x_t = hnit_br[1] + (pix[0] - 512) / 1024\n",
    "    lon = math.degrees(x_t * 2 * math.pi / (2 ** 17) - math.pi)\n",
    "    y_t = hnit_br[0] + (pix[1] - 512) / 1024\n",
    "    lat = math.degrees(2 * (math.atan(math.exp(math.pi - y_t * 2 * math.pi / (2 ** 17))) - math.pi / 4))\n",
    "    return (lat, lon)"
   ]
  },
  {
   "cell_type": "markdown",
   "id": "1a675895-2250-4bd4-b5fd-56386ec8da38",
   "metadata": {},
   "source": [
    "Þetta undirforrit tekur GPS-hnit og finnur dílinn á myndinni. Forritað með aðstoð frá o1-preview eftir OpenAI."
   ]
  },
  {
   "cell_type": "code",
   "execution_count": 9,
   "id": "e35165ce-22f9-4562-a902-22e3249acf47",
   "metadata": {},
   "outputs": [],
   "source": [
    "def coord2pix(lat, lon, hnit_br):\n",
    "    # Convert degrees to radians\n",
    "    lon_radians = math.radians(lon)\n",
    "    lat_radians = math.radians(lat)\n",
    "    \n",
    "    # Invert the calculation for x_t\n",
    "    x_t = ((lon_radians + math.pi) * (2 ** 17)) / (2 * math.pi)\n",
    "    # Calculate pix[0] (x-coordinate)\n",
    "    pix_x = (x_t - hnit_br[1]) * 1024 + 512\n",
    "    \n",
    "    # Invert the calculation for y_t\n",
    "    b = lat_radians / 2 + math.pi / 4\n",
    "    a = math.tan(b)\n",
    "    c = math.pi - math.log(a)\n",
    "    y_t = c * (2 ** 17) / (2 * math.pi)\n",
    "    # Calculate pix[1] (y-coordinate)\n",
    "    pix_y = (y_t - hnit_br[0]) * 1024 + 512\n",
    "    \n",
    "    return (pix_x, pix_y)"
   ]
  },
  {
   "cell_type": "markdown",
   "id": "64eecab4-b5e7-4950-ba40-4764bfe3810e",
   "metadata": {},
   "source": [
    "Við sækjum tvo lista: einn yfir byggingar á Höfuðborgarsvæðinu, og einn á Akureyri."
   ]
  },
  {
   "cell_type": "code",
   "execution_count": 10,
   "id": "0530e148-868a-4de1-8204-d2e3dbd7462e",
   "metadata": {},
   "outputs": [
    {
     "name": "stdout",
     "output_type": "stream",
     "text": [
      "25.62529492378235\n"
     ]
    }
   ],
   "source": [
    "byrjun = time.time()\n",
    "byg_listi = {}\n",
    "osm_h = OSM(fp, bounding_box=[-22.140901, 63.847886, -21.152576, 64.390306])\n",
    "byg_listi['h'] = osm_h.get_buildings()\n",
    "osm_a = OSM(fp, bounding_box=[-18.398071, 65.543087, -17.968359, 66.576398])\n",
    "byg_listi['a'] = osm_a.get_buildings()\n",
    "print(time.time() - byrjun)"
   ]
  },
  {
   "cell_type": "markdown",
   "id": "34c32165-714b-4af9-bfb0-dab633f7954b",
   "metadata": {},
   "source": [
    "Fyrir hverja skjámynd búum við til tvívíddarlista sem sýnir staðsetningar bygginga. Dílar með byggingum eru rauðir, og dílar án bygginga eru bláir."
   ]
  },
  {
   "cell_type": "code",
   "execution_count": 11,
   "id": "fa351946-9653-4f41-8013-8a4b53ff9074",
   "metadata": {},
   "outputs": [
    {
     "name": "stdout",
     "output_type": "stream",
     "text": [
      "0 0.5127067565917969\n",
      "10 78.11082291603088\n",
      "20 150.23039484024048\n",
      "30 242.769917011261\n",
      "40 364.7408399581909\n",
      "50 432.21098494529724\n",
      "60 509.72645378112793\n",
      "70 557.8350780010223\n",
      "80 601.4616889953613\n",
      "90 712.3754439353943\n",
      "100 858.148148059845\n",
      "110 926.4363679885864\n",
      "120 1019.4910380840302\n",
      "1069.4642729759216\n"
     ]
    }
   ],
   "source": [
    "byrjun = time.time()\n",
    "X_gogn = []\n",
    "y_gogn = []\n",
    "bd_all = {}\n",
    "for st in ['h', 'a']:\n",
    "    byggingar = byg_listi[st]\n",
    "    bd = []\n",
    "    for k in range(byggingar.shape[0]):\n",
    "        bns = byggingar['geometry'][k].bounds\n",
    "        bd.append(bns)\n",
    "    bd_all[st] = bd\n",
    "for n in range(len(hnitlisti)):\n",
    "    if n % 10 == 0:\n",
    "        print(n, time.time() - byrjun)\n",
    "    hnit = hnitlisti[n]\n",
    "    # Open image\n",
    "    try:\n",
    "        gtm = Image.open(mappa + hnit[0] + '_' + str(hnit[1]) + '_' + str(hnit[2]) + '.png')\n",
    "        dilar = gtm.load()\n",
    "    except FileNotFoundError:\n",
    "        continue\n",
    "    X_gogn.append(torch.tensor(np.transpose(np.array(gtm.getdata()).reshape(1024, 1024, 3), \n",
    "                                            (2, 0, 1)).reshape(1, 3, 1024, 1024), dtype=torch.float32).to(device))\n",
    "    # Convert coordinates\n",
    "    y_n = 1 / (2 * math.pi) * 2 ** 17 * (math.pi - math.log(math.tan(math.pi / 4 + math.radians(hnit[1]) / 2))) - 0.5\n",
    "    y_s = 1 / (2 * math.pi) * 2 ** 17 * (math.pi - math.log(math.tan(math.pi / 4 + math.radians(hnit[1]) / 2))) + 0.5\n",
    "    byggingar = byg_listi[hnit[0]]\n",
    "    hnit_br = (1 / (2 * math.pi) * 2 ** 17 * (math.pi - math.log(math.tan(math.pi / 4 + math.radians(hnit[1]) / 2))),\n",
    "               1 / (2 * math.pi) * 2 ** 17 * (math.pi + math.radians(hnit[2])))\n",
    "    # Buildings\n",
    "    y_mynd = np.zeros((1, 1, 1024, 1024))\n",
    "    bd = bd_all[hnit[0]]\n",
    "    for k in range(byggingar.shape[0]):\n",
    "        bns = bd[k]\n",
    "        if bns[0] > hnit[2] + 0.0014 or bns[1] > hnit[1] + 0.0008 or bns[2] < hnit[2] - 0.0014 or bns[3] < hnit[1] - 0.0008:\n",
    "            continue\n",
    "        NW = coord2pix(bns[3], bns[0], hnit_br)\n",
    "        SE = coord2pix(bns[1], bns[2], hnit_br)\n",
    "        if NW[0] > 1024 or NW[1] > 1024 or SE[0] < 0 or SE[1] < 0:\n",
    "            continue\n",
    "        for i in range(max(0, int(NW[0])), min(1024, int(SE[0]) + 1)):\n",
    "            for j in range(max(0, int(NW[1])), min(1024, int(SE[1]) + 1)):\n",
    "                if y_mynd[0][0][i][j] == 1:\n",
    "                    continue\n",
    "                coord = pix2coord((i, j), hnit_br)\n",
    "                if byggingar['geometry'][k].contains(Point(coord[1], coord[0])):\n",
    "                    y_mynd[0][0][i][j] = 1\n",
    "                    gtm.putpixel((i, j), (max(dilar[i,j][0] + 64, 255), dilar[i,j][1], dilar[i,j][2]))\n",
    "    gtm.save(mappa + 'saman_' + hnit[0] + '_' + str(hnit[1]) + '_' + str(hnit[2]) + '.png')\n",
    "    y_gogn.append(torch.tensor(y_mynd, dtype=torch.float32).to(device))\n",
    "print(time.time() - byrjun)"
   ]
  },
  {
   "cell_type": "code",
   "execution_count": 12,
   "id": "f33e79e8-a454-43dc-b4ef-3ae3433ed6bf",
   "metadata": {},
   "outputs": [],
   "source": [
    "X_train, X_test, y_train, y_test = train_test_split(X_gogn, y_gogn)"
   ]
  },
  {
   "cell_type": "markdown",
   "id": "02e1c583-8900-4bd8-8a8c-ffe2817b22e4",
   "metadata": {},
   "source": [
    "## Líkan\n",
    "Hérna er U-Net til að greina díla á gervitunglamyndum. Forritað með aðstoð frá o1-preview."
   ]
  },
  {
   "cell_type": "code",
   "execution_count": 13,
   "id": "84758117-200f-4052-af90-8fa1dd5a7084",
   "metadata": {},
   "outputs": [],
   "source": [
    "class UNet(nn.Module):\n",
    "    def __init__(self, in_channels=1, out_channels=1):\n",
    "        super(UNet, self).__init__()\n",
    "\n",
    "        # Encoding path\n",
    "        self.enc1 = self.contract_block(in_channels, 64, 7, 3)\n",
    "        self.enc2 = self.contract_block(64, 128, 3, 1)\n",
    "        self.enc3 = self.contract_block(128, 256, 3, 1)\n",
    "        self.enc4 = self.contract_block(256, 512, 3, 1)\n",
    "        self.enc5 = self.contract_block(512, 1024, 3, 1)\n",
    "\n",
    "        # Decoding path\n",
    "        self.dec5 = self.expand_block(1024, 512, 3, 1)\n",
    "        self.dec4 = self.expand_block(1024, 256, 3, 1)\n",
    "        self.dec3 = self.expand_block(512, 128, 3, 1)\n",
    "        self.dec2 = self.expand_block(256, 64, 3, 1)\n",
    "        self.dec1 = self.final_block(128, out_channels, 3, 1)\n",
    "\n",
    "    def __call__(self, x):\n",
    "        # Encoding path\n",
    "        enc1 = self.enc1(x)\n",
    "        enc2 = self.enc2(F.max_pool2d(enc1, kernel_size=2))\n",
    "        enc3 = self.enc3(F.max_pool2d(enc2, kernel_size=2))\n",
    "        enc4 = self.enc4(F.max_pool2d(enc3, kernel_size=2))\n",
    "        enc5 = self.enc5(F.max_pool2d(enc4, kernel_size=2))\n",
    "\n",
    "        # Decoding path\n",
    "        dec5 = self.dec5(F.interpolate(enc5, scale_factor=2, mode='bilinear', align_corners=True))\n",
    "        dec5 = torch.cat((enc4, dec5), dim=1)\n",
    "        dec4 = self.dec4(F.interpolate(dec5, scale_factor=2, mode='bilinear', align_corners=True))\n",
    "        dec4 = torch.cat((enc3, dec4), dim=1)\n",
    "        dec3 = self.dec3(F.interpolate(dec4, scale_factor=2, mode='bilinear', align_corners=True))\n",
    "        dec3 = torch.cat((enc2, dec3), dim=1)\n",
    "        dec2 = self.dec2(F.interpolate(dec3, scale_factor=2, mode='bilinear', align_corners=True))\n",
    "        dec2 = torch.cat((enc1, dec2), dim=1)\n",
    "        dec1 = self.dec1(dec2)\n",
    "\n",
    "        return dec1  # Output logits\n",
    "\n",
    "    def contract_block(self, in_channels, out_channels, kernel_size, padding):\n",
    "        contract = nn.Sequential(\n",
    "            nn.Conv2d(in_channels, out_channels, kernel_size=kernel_size, padding=padding),\n",
    "            nn.ReLU(),\n",
    "            nn.BatchNorm2d(out_channels),\n",
    "            nn.Conv2d(out_channels, out_channels, kernel_size=kernel_size, padding=padding),\n",
    "            nn.ReLU(),\n",
    "            nn.BatchNorm2d(out_channels),\n",
    "        )\n",
    "        return contract\n",
    "\n",
    "    def expand_block(self, in_channels, out_channels, kernel_size, padding):\n",
    "        expand = nn.Sequential(\n",
    "            nn.Conv2d(in_channels, out_channels, kernel_size=kernel_size, padding=padding),\n",
    "            nn.ReLU(),\n",
    "            nn.BatchNorm2d(out_channels),\n",
    "            nn.Conv2d(out_channels, out_channels, kernel_size=kernel_size, padding=padding),\n",
    "            nn.ReLU(),\n",
    "            nn.BatchNorm2d(out_channels),\n",
    "        )\n",
    "        return expand\n",
    "\n",
    "    def final_block(self, in_channels, out_channels, kernel_size, padding):\n",
    "        final = nn.Sequential(\n",
    "            nn.Conv2d(in_channels, out_channels, kernel_size=kernel_size, padding=padding),\n",
    "            nn.Sigmoid()  # Use sigmoid activation for binary classification\n",
    "        )\n",
    "        return final"
   ]
  },
  {
   "cell_type": "code",
   "execution_count": 14,
   "id": "fbb89dbc-5300-4da1-a486-fbf879efa156",
   "metadata": {},
   "outputs": [],
   "source": [
    "epochs = 10\n",
    "thresh = 0.5"
   ]
  },
  {
   "cell_type": "code",
   "execution_count": 16,
   "id": "76f84000-11c7-472b-a90f-9ff339a42297",
   "metadata": {},
   "outputs": [
    {
     "name": "stdout",
     "output_type": "stream",
     "text": [
      "0 train 0.5152199268341064\n",
      "0 test 103.53660297393799\n",
      "0 0 138.11367392539978\n",
      "0 10 250.24990797042847\n",
      "0 20 359.8759949207306\n",
      "0 30 474.15410804748535\n",
      "0 40 575.7442281246185\n",
      "0 50 683.0803380012512\n",
      "0 60 792.4788680076599\n",
      "0 70 904.2430331707001\n",
      "0 80 1013.3565590381622\n",
      "0 90 1112.740287065506\n",
      "1 train 1178.279205083847\n",
      "1 test 1276.7699398994446\n",
      "1 0 1309.4478709697723\n",
      "1 10 1405.6863098144531\n",
      "1 20 1494.3983838558197\n",
      "1 30 1583.8091390132904\n",
      "1 40 1668.0419800281525\n",
      "1 50 1754.9381790161133\n",
      "1 60 1852.416335105896\n",
      "1 70 1950.081171989441\n",
      "1 80 2084.7542588710785\n",
      "1 90 2197.1646139621735\n",
      "2 train 2272.884314060211\n",
      "2 test 2373.6345059871674\n",
      "2 0 2406.041156053543\n",
      "2 10 2501.101914167404\n",
      "2 20 2589.9245450496674\n",
      "2 30 2679.5449380874634\n",
      "2 40 2762.4407811164856\n",
      "2 50 2853.126370191574\n",
      "2 60 2942.17902803421\n",
      "2 70 3037.7843329906464\n",
      "2 80 3134.779543161392\n",
      "2 90 3230.6768231391907\n",
      "3 train 3291.210396051407\n",
      "3 test 3392.36021900177\n",
      "3 0 3424.7605361938477\n",
      "3 10 3514.650801897049\n",
      "3 20 3605.6701040267944\n",
      "3 30 3693.9324338436127\n",
      "3 40 3777.285986185074\n",
      "3 50 3865.289731025696\n",
      "3 60 3953.5174310207367\n",
      "3 70 4045.9427189826965\n",
      "3 80 4146.560266017914\n",
      "3 90 4241.173190832138\n",
      "4 train 4301.925462961197\n",
      "4 test 4399.251945018768\n",
      "4 0 4431.923513174057\n",
      "4 10 4525.020090818405\n",
      "4 20 4623.054811000824\n",
      "4 30 4726.8365960121155\n",
      "4 40 4815.439150094986\n",
      "4 50 4911.801251173019\n",
      "4 60 5013.352097988129\n",
      "4 70 5119.080760002136\n",
      "4 80 5233.11098408699\n",
      "4 90 5342.043962240219\n",
      "5 train 5406.4590430259705\n",
      "5 test 5511.344584941864\n",
      "5 0 5545.875763893127\n",
      "5 10 5651.56933093071\n",
      "5 20 5751.886010885239\n",
      "5 30 5850.479362010956\n",
      "5 40 5942.708952188492\n",
      "5 50 6036.915922880173\n",
      "5 60 6125.774622917175\n",
      "5 70 6220.021064043045\n",
      "5 80 6320.7262551784515\n",
      "5 90 6412.592984199524\n",
      "6 train 6473.260619163513\n",
      "6 test 6571.108094930649\n",
      "6 0 6603.53872013092\n",
      "6 10 6696.773346185684\n",
      "6 20 6787.244025230408\n",
      "6 30 6876.199582099915\n",
      "6 40 6958.977354049683\n",
      "6 50 7043.973132133484\n",
      "6 60 7131.8031969070435\n",
      "6 70 7238.177753210068\n",
      "6 80 7349.659841060638\n",
      "6 90 7461.35214304924\n",
      "7 train 7530.201450109482\n",
      "7 test 7635.0000059604645\n",
      "7 0 7669.583750009537\n",
      "7 10 7773.1707220077515\n",
      "7 20 7871.735808134079\n",
      "7 30 7968.545974969864\n",
      "7 40 8062.645159006119\n",
      "7 50 8157.155044078827\n",
      "7 60 8257.513393878937\n",
      "7 70 8361.052021980286\n",
      "7 80 8471.37054014206\n",
      "7 90 8579.956389188766\n",
      "8 train 8647.237169981003\n",
      "8 test 8751.746609926224\n",
      "8 0 8786.883621931076\n",
      "8 10 8895.28367114067\n",
      "8 20 8995.965332984924\n",
      "8 30 9097.248744010925\n",
      "8 40 9188.626997947693\n",
      "8 50 9285.096553087234\n",
      "8 60 9386.201753139496\n",
      "8 70 9489.577353954315\n",
      "8 80 9601.054337024689\n",
      "8 90 9708.32079911232\n",
      "9 train 9774.138046979904\n",
      "9 test 9877.07219004631\n",
      "9 0 9910.999439954758\n",
      "9 10 10014.196281194687\n",
      "9 20 10111.292674064636\n",
      "9 30 10209.666432142258\n",
      "9 40 10303.138188123703\n",
      "9 50 10401.986439943314\n",
      "9 60 10500.6771671772\n",
      "9 70 10608.414746046066\n",
      "9 80 10715.240884065628\n",
      "9 90 10820.336027860641\n",
      "10 train 10887.086885213852\n",
      "9 train 0 10887.10165309906\n",
      "9 train 10 10900.817605018616\n",
      "9 train 20 10911.296524047852\n",
      "9 train 30 10921.739877223969\n",
      "9 train 40 10932.194839000702\n",
      "9 train 50 10942.675034046173\n",
      "9 train 60 10953.217494010925\n",
      "9 train 70 10963.95872592926\n",
      "9 train 80 10974.53581905365\n",
      "9 train 90 10985.070402145386\n",
      "10 test 10992.405649900436\n",
      "9 test 0 10992.40583395958\n",
      "9 test 10 11002.868996143341\n",
      "9 test 20 11013.40804195404\n",
      "9 test 30 11024.077918052673\n",
      "11027.264374017715\n"
     ]
    }
   ],
   "source": [
    "byrjun = time.time()\n",
    "train_prs = []\n",
    "test_prs = []\n",
    "train_rec = []\n",
    "test_rec = []\n",
    "likan = UNet(in_channels=3, out_channels=1)\n",
    "likan.to(device)\n",
    "criterion = nn.BCEWithLogitsLoss()\n",
    "optimizer = torch.optim.Adam(likan.parameters(), lr=1e-4)\n",
    "for e in range(epochs):\n",
    "    # Evaluate accuracy\n",
    "    print(e, 'train', time.time() - byrjun)\n",
    "    likan.eval()\n",
    "    with torch.no_grad():\n",
    "        tp = 0\n",
    "        fp = 0\n",
    "        fn = 0\n",
    "        for i in range(len(X_train)):\n",
    "            y_pred = likan(X_train[i])\n",
    "            frum = y_train[i].bool()\n",
    "            nid = (y_pred >= thresh)\n",
    "            tp += (nid & frum).sum().item()\n",
    "            fp += (nid & ~frum).sum().item()\n",
    "            fn += (~nid & frum).sum().item()\n",
    "        train_prs.append(tp / (tp + fp))\n",
    "        train_rec.append(tp / (tp + fn))\n",
    "        print(e, 'test', time.time() - byrjun)\n",
    "        tp = 0\n",
    "        fp = 0\n",
    "        fn = 0\n",
    "        for i in range(len(X_test)):\n",
    "            y_pred = likan(X_test[i])\n",
    "            frum = y_test[i].bool()\n",
    "            nid = (y_pred >= thresh)\n",
    "            tp += (nid & frum).sum().item()\n",
    "            fp += (nid & ~frum).sum().item()\n",
    "            fn += (~nid & frum).sum().item()\n",
    "        test_prs.append(tp / (tp + fp))\n",
    "        test_rec.append(tp / (tp + fn))\n",
    "    # Train model\n",
    "    likan.train()\n",
    "    for i in range(len(X_train)):\n",
    "        if i % 10 == 0:\n",
    "            print(e, i, time.time() - byrjun)\n",
    "        optimizer.zero_grad()\n",
    "        y_pred = likan(X_train[i])\n",
    "        loss = criterion(y_pred, y_train[i])\n",
    "        loss.backward()\n",
    "        optimizer.step()\n",
    "        torch.mps.synchronize()\n",
    "# Evaluate accuracy\n",
    "print(epochs, 'train', time.time() - byrjun)\n",
    "likan.eval()\n",
    "with torch.no_grad():\n",
    "    tp = 0\n",
    "    fp = 0\n",
    "    fn = 0\n",
    "    for i in range(len(X_train)):\n",
    "        if i % 10 == 0:\n",
    "            print(e, 'train', i, time.time() - byrjun)\n",
    "        y_pred = likan(X_train[i])\n",
    "        frum = y_train[i].bool()\n",
    "        nid = (y_pred >= thresh)\n",
    "        tp += (nid & frum).sum().item()\n",
    "        fp += (nid & ~frum).sum().item()\n",
    "        fn += (~nid & frum).sum().item()\n",
    "    train_prs.append(tp / (tp + fp))\n",
    "    train_rec.append(tp / (tp + fn))\n",
    "    print(epochs, 'test', time.time() - byrjun)\n",
    "    tp = 0\n",
    "    fp = 0\n",
    "    fn = 0\n",
    "    for i in range(len(X_test)):\n",
    "        if i % 10 == 0:\n",
    "            print(e, 'test', i, time.time() - byrjun)\n",
    "        y_pred = likan(X_test[i])\n",
    "        frum = y_test[i].bool()\n",
    "        nid = (y_pred >= thresh)\n",
    "        tp += (nid & frum).sum().item()\n",
    "        fp += (nid & ~frum).sum().item()\n",
    "        fn += (~nid & frum).sum().item()\n",
    "    test_prs.append(tp / (tp + fp))\n",
    "    test_rec.append(tp / (tp + fn))\n",
    "print(time.time() - byrjun)"
   ]
  },
  {
   "cell_type": "markdown",
   "id": "138feb3a-b88e-4217-9ce4-8defa7708a4d",
   "metadata": {},
   "source": [
    "## Mat"
   ]
  },
  {
   "cell_type": "code",
   "execution_count": 17,
   "id": "a6df7789-2a00-4a20-a5d3-a5834dc959f4",
   "metadata": {},
   "outputs": [
    {
     "data": {
      "image/png": "[encoded data removed]",
      "text/plain": [
       "<Figure size 640x480 with 1 Axes>"
      ]
     },
     "metadata": {},
     "output_type": "display_data"
    }
   ],
   "source": [
    "plt.plot(train_prs, label='Train')\n",
    "plt.plot(test_prs, label='Test')\n",
    "plt.xlabel('Epoch')\n",
    "plt.ylabel('Precision')\n",
    "plt.legend()\n",
    "plt.show()"
   ]
  },
  {
   "cell_type": "code",
   "execution_count": 18,
   "id": "f3bd78fd-6695-4da3-b9be-0934130fbfb1",
   "metadata": {},
   "outputs": [
    {
     "data": {
      "image/png": "[encoded data removed]",
      "text/plain": [
       "<Figure size 640x480 with 1 Axes>"
      ]
     },
     "metadata": {},
     "output_type": "display_data"
    }
   ],
   "source": [
    "plt.plot(train_rec, label='Train')\n",
    "plt.plot(test_rec, label='Test')\n",
    "plt.xlabel('Epoch')\n",
    "plt.ylabel('Recall')\n",
    "plt.legend()\n",
    "plt.show()"
   ]
  },
  {
   "cell_type": "markdown",
   "id": "9532eee4-7f2b-43b8-ae3b-f75f05ba8560",
   "metadata": {},
   "source": [
    "## Lokaorð\n",
    "Greiningin gekk illa. Líkanið er alls ekki nógu nákvæmt fyrir eiginlega notkun.\n",
    "\n",
    "Hvert förum við héðan?\n",
    "- Við reynum að greina marghyrninga heldur en díla. Við getum búið til greypingu (e. *embedding*) fyrir hverja byggingu.\n",
    "- Við fáum betri gervitunglamyndir. Á þeim sem við notum núna eru byggingarnar hallaðar, og hnitin eru oft ekki nógu nákvæm."
   ]
  }
 ],
 "metadata": {
  "kernelspec": {
   "display_name": "Python 3 (ipykernel)",
   "language": "python",
   "name": "python3"
  },
  "language_info": {
   "codemirror_mode": {
    "name": "ipython",
    "version": 3
   },
   "file_extension": ".py",
   "mimetype": "text/x-python",
   "name": "python",
   "nbconvert_exporter": "python",
   "pygments_lexer": "ipython3",
   "version": "3.10.0"
  }
 },
 "nbformat": 4,
 "nbformat_minor": 5
}
