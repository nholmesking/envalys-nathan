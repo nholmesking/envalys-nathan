{
 "cells": [
  {
   "cell_type": "markdown",
   "id": "cbb1f41a-1e42-4d6d-bc9c-f9dcd67e2dfa",
   "metadata": {},
   "source": [
    "# Byggingagreining á gervitunglamyndum\n",
    "Nathan HK"
   ]
  },
  {
   "cell_type": "code",
   "execution_count": 162,
   "id": "c79a1311-7a3d-44c3-8912-8d6052611252",
   "metadata": {},
   "outputs": [],
   "source": [
    "from io import BytesIO\n",
    "import math\n",
    "import matplotlib.pyplot as plt\n",
    "from PIL import Image\n",
    "from pyrosm import OSM\n",
    "from pyrosm import get_data\n",
    "import pywikibot\n",
    "from selenium.common.exceptions import NoSuchElementException\n",
    "from selenium import webdriver\n",
    "from selenium.webdriver.common.by import By\n",
    "from selenium.webdriver.common.keys import Keys\n",
    "from shapely.geometry import Point\n",
    "import time"
   ]
  },
  {
   "cell_type": "markdown",
   "id": "35614a2d-fc85-4085-b036-144f8ce4cbe7",
   "metadata": {},
   "source": [
    "## Inngangsorð\n",
    "Við viljum þjálfa gervigreindarlíkan til að greina byggingar á gervitunglamyndum. Við þurfum tvenn gögn: gervitunglamyndir og staðsetningar bygginga.\n",
    "- **Gervitunglamyndir:** Við notum skjámyndatökur af Já.is. Ég veit ekki hvort þetta sé löglegt, en ég er ekki með neinar betri leiðir.\n",
    "- **Staðsetningar bygginga:** Við notum OpenStreetMap."
   ]
  },
  {
   "cell_type": "markdown",
   "id": "587ca15a-f705-45bc-a0a4-8c96bcfded27",
   "metadata": {},
   "source": [
    "## Gervitunglamyndir\n",
    "Við notum lista yfir greinar á ensku Wikipediunni um staði á Höfuðborgarsvæðinu og Akureyri. Gögnin á Landsbyggðinni eru ekki nóg nákvæm fyrir þetta líkan."
   ]
  },
  {
   "cell_type": "code",
   "execution_count": 163,
   "id": "611f2f21-144c-4ed2-abb1-c98e8e015757",
   "metadata": {},
   "outputs": [
    {
     "name": "stdout",
     "output_type": "stream",
     "text": [
      "54\n",
      "h 120 93.18046808242798\n",
      "6\n",
      "a 130 108.11664319038391\n"
     ]
    }
   ],
   "source": [
    "byrjun = time.time()\n",
    "hnitlisti = []\n",
    "wiki = pywikibot.Site('en', 'wikipedia')\n",
    "\n",
    "# Capital Region\n",
    "flokkur_h = pywikibot.Category(wiki, 'Populated places in Capital Region (Iceland)')\n",
    "undir = list(flokkur_h.subcategories(recurse=3))\n",
    "buinn_fl = []  # Completed categories\n",
    "buinn_si = []  # Completed pages\n",
    "print(len(undir))\n",
    "for a in undir:\n",
    "    if a in buinn_fl:  # Already did category\n",
    "        continue\n",
    "    for b in a.articles():\n",
    "        if b in buinn_si:  # Already did page\n",
    "            continue\n",
    "        coord = b.coordinates(primary_only=True)\n",
    "        # Coordinates are invalid outside latitude [63, 67] and longitude [-25, -12]\n",
    "        if coord is not None and coord.lat >= 63 and coord.lat <= 67 and coord.lon >= -25 and coord.lon <= -12:\n",
    "            hnitlisti.append(('h', float(coord.lat), float(coord.lon)))\n",
    "        buinn_si.append(b)\n",
    "    buinn_fl.append(a)\n",
    "print('h', len(hnitlisti), time.time() - byrjun)\n",
    "\n",
    "# Akureyri\n",
    "flokkur_a = pywikibot.Category(wiki, 'Akureyri')\n",
    "undir = list(flokkur_a.subcategories(recurse=3))\n",
    "buinn_fl = []  # Completed categories\n",
    "buinn_si = []  # Completed pages\n",
    "print(len(undir))\n",
    "for a in undir:\n",
    "    if a in buinn_fl:  # Already did category\n",
    "        continue\n",
    "    for b in a.articles():\n",
    "        if b in buinn_si:  # Already did page\n",
    "            continue\n",
    "        coord = b.coordinates(primary_only=True)\n",
    "        # Coordinates are invalid outside latitude [63, 67] and longitude [-25, -12]\n",
    "        if coord is not None and coord.lat >= 63 and coord.lat <= 67 and coord.lon >= -25 and coord.lon <= -12:\n",
    "            hnitlisti.append(('a', float(coord.lat), float(coord.lon)))\n",
    "        buinn_si.append(b)\n",
    "    buinn_fl.append(a)\n",
    "print('a', len(hnitlisti), time.time() - byrjun)"
   ]
  },
  {
   "cell_type": "markdown",
   "id": "c9befe0c-77da-4c6c-a169-b550da856dad",
   "metadata": {},
   "source": [
    "Við getum ekki tekið myndir af miðjunni skjásins, því það eru önnur HTML-efni sem hylja gervitunglamyndirnar. Þess vegna leitum við að staði sem eru 0.002° til austurs frá myndatökustaðnum; hérna eru hnitin á skjánum fyrir þennan stað."
   ]
  },
  {
   "cell_type": "code",
   "execution_count": 164,
   "id": "027be46b-66c6-413c-b70c-e59611deffa9",
   "metadata": {},
   "outputs": [],
   "source": [
    "skhn = (746, 861)"
   ]
  },
  {
   "cell_type": "markdown",
   "id": "f7a7197e-1815-456d-bfd1-fdd04936ba0b",
   "metadata": {},
   "source": [
    "Við tökum skjámyndir af öllum stöðum á hnitlistanum.\n",
    "- URL-ið notar ISN93-hnit, en okkar hnit eru WGS84, og það er engin einföld leið til að skipta milli þeirra. Þess vegna þurfum við að leita að hnitum eins og manneskja myndi leita.\n",
    "- Á Chrome er myndasvæðið 512x512, en þegar myndin er vistuð verður hún 1024x1024."
   ]
  },
  {
   "cell_type": "code",
   "execution_count": 165,
   "id": "0b85159f-82ed-4569-b14e-8ce2a6794e94",
   "metadata": {},
   "outputs": [
    {
     "name": "stdout",
     "output_type": "stream",
     "text": [
      "0 3.9994421005249023\n",
      "50 217.97834610939026\n",
      "100 430.97044920921326\n",
      "557.2064530849457\n"
     ]
    }
   ],
   "source": [
    "byrjun = time.time()\n",
    "driver = webdriver.Chrome()\n",
    "driver.set_window_size(1500, 1000)\n",
    "driver.get('https://ja.is/kort/?x=356954&y=408253&nz=17.00&type=aerialnl')\n",
    "# Close GDPR banner\n",
    "btn = driver.find_element(By.XPATH, '//a[@id=\"gdpr_banner_ok\"]')\n",
    "btn.click()\n",
    "leit = driver.find_element(By.XPATH, '//input[@id=\"mapq\"]')\n",
    "for n in range(len(hnitlisti)):\n",
    "    if n % 50 == 0:\n",
    "        print(n, time.time() - byrjun)\n",
    "    hnit = hnitlisti[n]\n",
    "    # Input search term into search box\n",
    "    leit.clear()\n",
    "    leit.send_keys(str(hnit[1]) + ', ' + str(hnit[2] + 0.002))\n",
    "    leit.send_keys(Keys.RETURN)\n",
    "    time.sleep(2) # Wait for images to load\n",
    "    try:  # Place not found\n",
    "        nf = driver.find_element(By.XPATH, '//div[@class=\"row not-found\"]')\n",
    "    except NoSuchElementException:  # Place found, save and crop screenshot\n",
    "        driver.save_screenshot('/Users/002-nathan/Desktop/Envalys/gtm/' + hnit[0] + '_' + str(hnit[1]) + '_' + str(hnit[2]) + '.png')\n",
    "        skmynd = Image.open('/Users/002-nathan/Desktop/Envalys/gtm/' + hnit[0] + '_' + str(hnit[1]) + '_' + str(hnit[2]) + '.png')\n",
    "        skmynd = skmynd.crop((skhn[0] - 512, skhn[1] - 512, skhn[0] + 512, skhn[1] + 512))\n",
    "        skmynd.save('/Users/002-nathan/Desktop/Envalys/gtm/' + hnit[0] + '_' + str(hnit[1]) + '_' + str(hnit[2]) + '.png')\n",
    "    time.sleep(1)\n",
    "driver.close()\n",
    "print(time.time() - byrjun)"
   ]
  },
  {
   "cell_type": "markdown",
   "id": "a2a4be53-241f-47e9-8bf5-61fbb7134c93",
   "metadata": {},
   "source": [
    "## Staðsetningar bygginga\n",
    "Við sækjum gögn frá OpenStreetMap."
   ]
  },
  {
   "cell_type": "code",
   "execution_count": 166,
   "id": "7a890d29-f591-4459-8221-24fe5601231a",
   "metadata": {},
   "outputs": [],
   "source": [
    "fp = get_data('Iceland')"
   ]
  },
  {
   "cell_type": "markdown",
   "id": "6aec4b6f-00f5-4b0c-a66b-1940697b3d2a",
   "metadata": {},
   "source": [
    "Þetta undirforrit tekur díl á myndinni og finnur GPS-hnitin. Við notum Web Mercator."
   ]
  },
  {
   "cell_type": "code",
   "execution_count": 167,
   "id": "7b0536b8-b22f-41ed-9372-7df9a9cfb69b",
   "metadata": {},
   "outputs": [],
   "source": [
    "def pix2coord(pix, hnit_br):\n",
    "    x_t = hnit_br[1] + (pix[0] - 512) / 1024\n",
    "    lon = math.degrees(x_t * 2 * math.pi / (2 ** 17) - math.pi)\n",
    "    y_t = hnit_br[0] + (pix[1] - 512) / 1024\n",
    "    lat = math.degrees(2 * (math.atan(math.exp(math.pi - y_t * 2 * math.pi / (2 ** 17))) - math.pi / 4))\n",
    "    return (lat, lon)"
   ]
  },
  {
   "cell_type": "markdown",
   "id": "64eecab4-b5e7-4950-ba40-4764bfe3810e",
   "metadata": {},
   "source": [
    "Við sækjum tvo lista: einn yfir byggingar á Höfuðborgarsvæðinu, og einn á Akureyri."
   ]
  },
  {
   "cell_type": "code",
   "execution_count": 168,
   "id": "0530e148-868a-4de1-8204-d2e3dbd7462e",
   "metadata": {},
   "outputs": [
    {
     "name": "stdout",
     "output_type": "stream",
     "text": [
      "32.90095901489258\n"
     ]
    }
   ],
   "source": [
    "byrjun = time.time()\n",
    "byg_listi = {}\n",
    "osm_h = OSM(fp, bounding_box=[-22.140901, 63.847886, -21.152576, 64.390306])\n",
    "byg_listi['h'] = osm_h.get_buildings()\n",
    "osm_a = OSM(fp, bounding_box=[-18.398071, 65.543087, -17.968359, 66.576398])\n",
    "byg_listi['a'] = osm_a.get_buildings()\n",
    "print(time.time() - byrjun)"
   ]
  },
  {
   "cell_type": "markdown",
   "id": "34c32165-714b-4af9-bfb0-dab633f7954b",
   "metadata": {},
   "source": [
    "Fyrir hverja skjámynd búum við til nýja mynd sem sýnir staðsetningar bygginga. Dílar með byggingum eru rauðir, og dílar án bygginga eru bláir.\n",
    "\n",
    "Til að gera þetta fljótari:\n",
    "- Við útreiknum utanferninginn (e. *bounding box*) fyrir hverja byggingu áður en við skoðum myndina. Ef díll er ekki í utanferningnum, þá er hann ekki í byggingunni, og við vitum það án þess að gera ```.contains()```, sem tekur langan tíma.\n",
    "- Við búum til fjögur ílát: eitt fyrir byggingar sem eru norðvestur af miðpunktnum, eitt fyrir norðaustur, o.s.fv. Fyrir hverja mynd setjum við byggingarnar í viðeigandi ílátið, og fyrir hvern díl þurfum við bara að leita þar."
   ]
  },
  {
   "cell_type": "code",
   "execution_count": 187,
   "id": "fa351946-9653-4f41-8013-8a4b53ff9074",
   "metadata": {},
   "outputs": [
    {
     "name": "stdout",
     "output_type": "stream",
     "text": [
      "0 0.512286901473999\n",
      "10 90.64847302436829\n",
      "20 180.5462188720703\n",
      "30 290.40744495391846\n",
      "40 423.5607581138611\n",
      "50 506.9982409477234\n",
      "60 604.9740378856659\n",
      "70 672.0114297866821\n",
      "80 732.5899751186371\n",
      "90 860.6018071174622\n",
      "100 1018.5698711872101\n",
      "110 1101.3274369239807\n",
      "120 1210.532191991806\n",
      "1277.1505191326141\n"
     ]
    }
   ],
   "source": [
    "byrjun = time.time()\n",
    "bd_all = {}\n",
    "for st in ['h', 'a']:\n",
    "    byggingar = byg_listi[st]\n",
    "    bd = []\n",
    "    for k in range(byggingar.shape[0]):\n",
    "        bns = byggingar['geometry'][k].bounds\n",
    "        bd.append(bns)\n",
    "    bd_all[st] = bd\n",
    "for n in range(len(hnitlisti)):\n",
    "    if n % 10 == 0:\n",
    "        print(n, time.time() - byrjun)\n",
    "    hnit = hnitlisti[n]\n",
    "    # Open image\n",
    "    try:\n",
    "        gtm = Image.open('/Users/002-nathan/Desktop/Envalys/gtm/' + hnit[0] + '_' + str(hnit[1]) + '_' + str(hnit[2]) + '.png')\n",
    "        dilar = gtm.load()\n",
    "    except FileNotFoundError:\n",
    "        continue\n",
    "    # Convert coordinates\n",
    "    y_n = 1 / (2 * math.pi) * 2 ** 17 * (math.pi - math.log(math.tan(math.pi / 4 + math.radians(hnit[1]) / 2))) - 0.5\n",
    "    y_s = 1 / (2 * math.pi) * 2 ** 17 * (math.pi - math.log(math.tan(math.pi / 4 + math.radians(hnit[1]) / 2))) + 0.5\n",
    "    byggingar = byg_listi[hnit[0]]\n",
    "    hnit_br = (1 / (2 * math.pi) * 2 ** 17 * (math.pi - math.log(math.tan(math.pi / 4 + math.radians(hnit[1]) / 2))),\n",
    "               1 / (2 * math.pi) * 2 ** 17 * (math.pi + math.radians(hnit[2])))\n",
    "    # Buildings\n",
    "    bd = bd_all[hnit[0]]\n",
    "    ilat = [[[], []], [[], []]]\n",
    "    for k in range(byggingar.shape[0]):\n",
    "        bns = bd[k]\n",
    "        if bns[0] <= hnit[2] and bns[1] <= hnit[1] and bns[2] >= hnit[2] - 0.0014 and bns[3] >= hnit[1] - 0.0008:\n",
    "            ilat[0][0].append(k)\n",
    "        if bns[0] <= hnit[2] and bns[3] >= hnit[1] and bns[2] >= hnit[2] - 0.0014 and bns[1] <= hnit[1] + 0.0008:\n",
    "            ilat[0][1].append(k)\n",
    "        if bns[2] >= hnit[2] and bns[1] <= hnit[1] and bns[0] <= hnit[2] + 0.0014 and bns[3] >= hnit[1] - 0.0008:\n",
    "            ilat[1][0].append(k)\n",
    "        if bns[2] >= hnit[2] and bns[3] >= hnit[1] and bns[0] <= hnit[2] + 0.0014 and bns[1] <= hnit[1] + 0.0008:\n",
    "            ilat[1][1].append(k)\n",
    "    # Loop thru pixels\n",
    "    for i in range(1024):\n",
    "        for j in range(1024):\n",
    "            coord = pix2coord((i, j), hnit_br)\n",
    "            f = True\n",
    "            ilat_pos = [1, 1]\n",
    "            if coord[1] < hnit[2]:\n",
    "                ilat_pos[0] = 0\n",
    "            if coord[0] < hnit[1]:\n",
    "                ilat_pos[1] = 0\n",
    "            for k in ilat[ilat_pos[0]][ilat_pos[1]]:\n",
    "                if bd[k][0] > coord[1] or bd[k][1] > coord[0] or bd[k][2] < coord[1] or bd[k][3] < coord[0]:\n",
    "                    continue\n",
    "                if byggingar['geometry'][k].contains(Point(coord[1], coord[0])):\n",
    "                    gtm.putpixel((i, j), (max(dilar[i,j][0] + 64, 255), dilar[i,j][1], dilar[i,j][2]))\n",
    "                    f = False\n",
    "                    break\n",
    "            if f:\n",
    "                gtm.putpixel((i, j), (dilar[i,j][0], dilar[i,j][1], max(dilar[i,j][2] + 64, 255)))\n",
    "    gtm.save('/Users/002-nathan/Desktop/Envalys/gtm/saman_' + hnit[0] + '_' + str(hnit[1]) + '_' + str(hnit[2]) + '.png')\n",
    "print(time.time() - byrjun)"
   ]
  },
  {
   "cell_type": "markdown",
   "id": "9532eee4-7f2b-43b8-ae3b-f75f05ba8560",
   "metadata": {},
   "source": [
    "## Lokaorð\n",
    "Við erum með forrit sem sækir gervitunglamyndir og kort af staðsetningum bygginga á mjög nákvæman hátt. Þetta er allt sem við þurfum til að þjálfa gervigreindarlíkan."
   ]
  }
 ],
 "metadata": {
  "kernelspec": {
   "display_name": "Python 3 (ipykernel)",
   "language": "python",
   "name": "python3"
  },
  "language_info": {
   "codemirror_mode": {
    "name": "ipython",
    "version": 3
   },
   "file_extension": ".py",
   "mimetype": "text/x-python",
   "name": "python",
   "nbconvert_exporter": "python",
   "pygments_lexer": "ipython3",
   "version": "3.10.0"
  }
 },
 "nbformat": 4,
 "nbformat_minor": 5
}
