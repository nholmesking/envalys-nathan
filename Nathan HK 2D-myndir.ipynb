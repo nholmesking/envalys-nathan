{
 "cells": [
  {
   "cell_type": "markdown",
   "id": "cbb1f41a-1e42-4d6d-bc9c-f9dcd67e2dfa",
   "metadata": {},
   "source": [
    "# Byggingagreining á gervitunglamyndum\n",
    "Nathan HK"
   ]
  },
  {
   "cell_type": "code",
   "execution_count": 1,
   "id": "c79a1311-7a3d-44c3-8912-8d6052611252",
   "metadata": {},
   "outputs": [],
   "source": [
    "from io import BytesIO\n",
    "import math\n",
    "import matplotlib.pyplot as plt\n",
    "import numpy as np\n",
    "from PIL import Image\n",
    "from pyrosm import OSM\n",
    "from pyrosm import get_data\n",
    "import pywikibot\n",
    "from selenium.common.exceptions import NoSuchElementException\n",
    "from selenium import webdriver\n",
    "from selenium.webdriver.common.by import By\n",
    "from selenium.webdriver.common.keys import Keys\n",
    "from shapely.geometry import Point\n",
    "import sklearn as sk\n",
    "from sklearn.model_selection import train_test_split\n",
    "import time\n",
    "import torch\n",
    "import torch.nn as nn\n",
    "import torch.nn.functional as F"
   ]
  },
  {
   "cell_type": "code",
   "execution_count": 2,
   "id": "73776003-4532-416f-8943-3f9ea869de4f",
   "metadata": {},
   "outputs": [],
   "source": [
    "mappa = '/Users/002-nathan/Desktop/Envalys/gtm/'\n",
    "device = torch.device('mps' if torch.backends.mps.is_available() else 'cpu')"
   ]
  },
  {
   "cell_type": "markdown",
   "id": "35614a2d-fc85-4085-b036-144f8ce4cbe7",
   "metadata": {},
   "source": [
    "## Inngangsorð\n",
    "Við viljum þjálfa gervigreindarlíkan til að greina byggingar á gervitunglamyndum. Við þurfum tvenn gögn: gervitunglamyndir og staðsetningar bygginga.\n",
    "- **Gervitunglamyndir:** Við notum skjámyndatökur af Já.is. Ég veit ekki hvort þetta sé löglegt, en ég er ekki með neinar betri leiðir.\n",
    "- **Staðsetningar bygginga:** Við notum OpenStreetMap.\n",
    "\n",
    "Ég nota Apple M1 Pro-örgjörvi með 16 GB minni."
   ]
  },
  {
   "cell_type": "markdown",
   "id": "587ca15a-f705-45bc-a0a4-8c96bcfded27",
   "metadata": {},
   "source": [
    "## Gervitunglamyndir\n",
    "Við notum lista yfir greinar á ensku Wikipediunni um staði á Höfuðborgarsvæðinu og Akureyri. Gögnin á Landsbyggðinni eru ekki nóg nákvæm fyrir þetta líkan."
   ]
  },
  {
   "cell_type": "code",
   "execution_count": 3,
   "id": "611f2f21-144c-4ed2-abb1-c98e8e015757",
   "metadata": {},
   "outputs": [
    {
     "name": "stdout",
     "output_type": "stream",
     "text": [
      "54\n",
      "h 120 101.81101202964783\n",
      "6\n",
      "a 130 117.08099031448364\n"
     ]
    }
   ],
   "source": [
    "byrjun = time.time()\n",
    "hnitlisti = []\n",
    "wiki = pywikibot.Site('en', 'wikipedia')\n",
    "\n",
    "# Capital Region\n",
    "flokkur_h = pywikibot.Category(wiki, 'Populated places in Capital Region (Iceland)')\n",
    "undir = list(flokkur_h.subcategories(recurse=3))\n",
    "buinn_fl = []  # Completed categories\n",
    "buinn_si = []  # Completed pages\n",
    "print(len(undir))\n",
    "for a in undir:\n",
    "    if a in buinn_fl:  # Already did category\n",
    "        continue\n",
    "    for b in a.articles():\n",
    "        if b in buinn_si:  # Already did page\n",
    "            continue\n",
    "        coord = b.coordinates(primary_only=True)\n",
    "        # Coordinates are invalid outside latitude [63, 67] and longitude [-25, -12]\n",
    "        if coord is not None and coord.lat >= 63 and coord.lat <= 67 and coord.lon >= -25 and coord.lon <= -12:\n",
    "            hnitlisti.append(('h', float(coord.lat), float(coord.lon)))\n",
    "        buinn_si.append(b)\n",
    "    buinn_fl.append(a)\n",
    "print('h', len(hnitlisti), time.time() - byrjun)\n",
    "\n",
    "# Akureyri\n",
    "flokkur_a = pywikibot.Category(wiki, 'Akureyri')\n",
    "undir = list(flokkur_a.subcategories(recurse=3))\n",
    "buinn_fl = []  # Completed categories\n",
    "buinn_si = []  # Completed pages\n",
    "print(len(undir))\n",
    "for a in undir:\n",
    "    if a in buinn_fl:  # Already did category\n",
    "        continue\n",
    "    for b in a.articles():\n",
    "        if b in buinn_si:  # Already did page\n",
    "            continue\n",
    "        coord = b.coordinates(primary_only=True)\n",
    "        # Coordinates are invalid outside latitude [63, 67] and longitude [-25, -12]\n",
    "        if coord is not None and coord.lat >= 63 and coord.lat <= 67 and coord.lon >= -25 and coord.lon <= -12:\n",
    "            hnitlisti.append(('a', float(coord.lat), float(coord.lon)))\n",
    "        buinn_si.append(b)\n",
    "    buinn_fl.append(a)\n",
    "print('a', len(hnitlisti), time.time() - byrjun)"
   ]
  },
  {
   "cell_type": "markdown",
   "id": "c9befe0c-77da-4c6c-a169-b550da856dad",
   "metadata": {},
   "source": [
    "Við getum ekki tekið myndir af miðjunni skjásins, því það eru önnur HTML-efni sem hylja gervitunglamyndirnar. Þess vegna leitum við að staði sem eru 0.002° til austurs frá myndatökustaðnum; hérna eru hnitin á skjánum fyrir þennan stað."
   ]
  },
  {
   "cell_type": "code",
   "execution_count": 4,
   "id": "027be46b-66c6-413c-b70c-e59611deffa9",
   "metadata": {},
   "outputs": [],
   "source": [
    "skhn = (746, 861)"
   ]
  },
  {
   "cell_type": "markdown",
   "id": "f7a7197e-1815-456d-bfd1-fdd04936ba0b",
   "metadata": {},
   "source": [
    "Við tökum skjámyndir af öllum stöðum á hnitlistanum.\n",
    "- URL-ið notar ISN93-hnit, en okkar hnit eru WGS84, og það er engin einföld leið til að skipta milli þeirra. Þess vegna þurfum við að leita að hnitum eins og manneskja myndi leita.\n",
    "- Á Chrome er myndasvæðið 512x512, en þegar myndin er vistuð verður hún 1024x1024."
   ]
  },
  {
   "cell_type": "code",
   "execution_count": 5,
   "id": "0b85159f-82ed-4569-b14e-8ce2a6794e94",
   "metadata": {},
   "outputs": [
    {
     "name": "stdout",
     "output_type": "stream",
     "text": [
      "0 12.286180973052979\n",
      "50 12.288287162780762\n",
      "100 12.289857149124146\n",
      "12.414113998413086\n"
     ]
    }
   ],
   "source": [
    "byrjun = time.time()\n",
    "driver = webdriver.Chrome()\n",
    "driver.set_window_size(1500, 1000)\n",
    "driver.get('https://ja.is/kort/?x=356954&y=408253&nz=17.00&type=aerialnl')\n",
    "# Accept GDPR\n",
    "try:\n",
    "    btn = driver.find_element(By.XPATH, '//a[@id=\"gdpr_banner_ok\"]')\n",
    "    btn.click()\n",
    "except NoSuchElementException:\n",
    "    pass\n",
    "# Allow cookies\n",
    "try:\n",
    "    btn = driver.find_element(By.XPATH, '//button[@class=\"ch2-btn ch2-allow-all-btn ch2-btn-primary\"]')\n",
    "    btn.click()\n",
    "except NoSuchElementException:\n",
    "    pass\n",
    "leit = driver.find_element(By.XPATH, '//input[@id=\"mapq\"]')\n",
    "for n in range(len(hnitlisti)):\n",
    "    if n % 50 == 0:\n",
    "        print(n, time.time() - byrjun)\n",
    "    hnit = hnitlisti[n]\n",
    "    # Input search term into search box\n",
    "    try:\n",
    "        z = open(mappa + hnit[0] + '_' + str(hnit[1]) + '_' + str(hnit[2]) + '.png', 'rb')\n",
    "        z.close()\n",
    "    except FileNotFoundError:\n",
    "        leit.clear()\n",
    "        leit.send_keys(str(hnit[1]) + ', ' + str(hnit[2] + 0.002))\n",
    "        leit.send_keys(Keys.RETURN)\n",
    "        time.sleep(2) # Wait for images to load\n",
    "        try:  # Place not found\n",
    "            nf = driver.find_element(By.XPATH, '//div[@class=\"row not-found\"]')\n",
    "        except NoSuchElementException:  # Place found, save and crop screenshot\n",
    "            driver.save_screenshot(mappa + hnit[0] + '_' + str(hnit[1]) + '_' + str(hnit[2]) + '.png')\n",
    "            skmynd = Image.open(mappa + hnit[0] + '_' + str(hnit[1]) + '_' + str(hnit[2]) + '.png')\n",
    "            skmynd = skmynd.crop((skhn[0] - 512, skhn[1] - 512, skhn[0] + 512, skhn[1] + 512))\n",
    "            skmynd.save(mappa + hnit[0] + '_' + str(hnit[1]) + '_' + str(hnit[2]) + '.png')\n",
    "        time.sleep(1)\n",
    "driver.close()\n",
    "print(time.time() - byrjun)"
   ]
  },
  {
   "cell_type": "markdown",
   "id": "a2a4be53-241f-47e9-8bf5-61fbb7134c93",
   "metadata": {},
   "source": [
    "## Staðsetningar bygginga\n",
    "Við sækjum gögn frá OpenStreetMap."
   ]
  },
  {
   "cell_type": "code",
   "execution_count": 6,
   "id": "7a890d29-f591-4459-8221-24fe5601231a",
   "metadata": {},
   "outputs": [],
   "source": [
    "fp = get_data('Iceland')"
   ]
  },
  {
   "cell_type": "markdown",
   "id": "6aec4b6f-00f5-4b0c-a66b-1940697b3d2a",
   "metadata": {},
   "source": [
    "Þetta undirforrit tekur díl á myndinni og finnur GPS-hnitin. Við notum Web Mercator."
   ]
  },
  {
   "cell_type": "code",
   "execution_count": 7,
   "id": "7b0536b8-b22f-41ed-9372-7df9a9cfb69b",
   "metadata": {},
   "outputs": [],
   "source": [
    "def pix2coord(pix, hnit_br):\n",
    "    x_t = hnit_br[1] + (pix[0] - 512) / 1024\n",
    "    lon = math.degrees(x_t * 2 * math.pi / (2 ** 17) - math.pi)\n",
    "    y_t = hnit_br[0] + (pix[1] - 512) / 1024\n",
    "    lat = math.degrees(2 * (math.atan(math.exp(math.pi - y_t * 2 * math.pi / (2 ** 17))) - math.pi / 4))\n",
    "    return (lat, lon)"
   ]
  },
  {
   "cell_type": "markdown",
   "id": "64eecab4-b5e7-4950-ba40-4764bfe3810e",
   "metadata": {},
   "source": [
    "Við sækjum tvo lista: einn yfir byggingar á Höfuðborgarsvæðinu, og einn á Akureyri."
   ]
  },
  {
   "cell_type": "code",
   "execution_count": 8,
   "id": "0530e148-868a-4de1-8204-d2e3dbd7462e",
   "metadata": {},
   "outputs": [
    {
     "name": "stdout",
     "output_type": "stream",
     "text": [
      "24.004565954208374\n"
     ]
    }
   ],
   "source": [
    "byrjun = time.time()\n",
    "byg_listi = {}\n",
    "osm_h = OSM(fp, bounding_box=[-22.140901, 63.847886, -21.152576, 64.390306])\n",
    "byg_listi['h'] = osm_h.get_buildings()\n",
    "osm_a = OSM(fp, bounding_box=[-18.398071, 65.543087, -17.968359, 66.576398])\n",
    "byg_listi['a'] = osm_a.get_buildings()\n",
    "print(time.time() - byrjun)"
   ]
  },
  {
   "cell_type": "markdown",
   "id": "34c32165-714b-4af9-bfb0-dab633f7954b",
   "metadata": {},
   "source": [
    "Fyrir hverja skjámynd búum við til nýja mynd sem sýnir staðsetningar bygginga. Dílar með byggingum eru rauðir, og dílar án bygginga eru bláir.\n",
    "\n",
    "Til að gera þetta fljótari:\n",
    "- Við útreiknum utanferninginn (e. *bounding box*) fyrir hverja byggingu áður en við skoðum myndina. Ef díll er ekki í utanferningnum, þá er hann ekki í byggingunni, og við vitum það án þess að gera ```.contains()```, sem tekur langan tíma.\n",
    "- Við búum til fjögur ílát: eitt fyrir byggingar sem eru norðvestur af miðpunktnum, eitt fyrir norðaustur, o.s.fv. Fyrir hverja mynd setjum við byggingarnar í viðeigandi ílátið, og fyrir hvern díl þurfum við bara að leita þar."
   ]
  },
  {
   "cell_type": "code",
   "execution_count": 9,
   "id": "fa351946-9653-4f41-8013-8a4b53ff9074",
   "metadata": {},
   "outputs": [
    {
     "name": "stdout",
     "output_type": "stream",
     "text": [
      "0 0.45939111709594727\n",
      "10 90.74268698692322\n",
      "20 180.24201703071594\n",
      "30 289.6506083011627\n",
      "40 422.8608021736145\n",
      "50 507.9452350139618\n",
      "60 607.4609222412109\n",
      "70 676.5264420509338\n",
      "80 738.953547000885\n",
      "90 869.2726452350616\n",
      "100 1030.293787240982\n",
      "110 1115.8231172561646\n",
      "120 1228.821366071701\n",
      "1298.5642020702362\n"
     ]
    }
   ],
   "source": [
    "byrjun = time.time()\n",
    "X_gogn = []\n",
    "y_gogn = []\n",
    "bd_all = {}\n",
    "for st in ['h', 'a']:\n",
    "    byggingar = byg_listi[st]\n",
    "    bd = []\n",
    "    for k in range(byggingar.shape[0]):\n",
    "        bns = byggingar['geometry'][k].bounds\n",
    "        bd.append(bns)\n",
    "    bd_all[st] = bd\n",
    "for n in range(len(hnitlisti)):\n",
    "    if n % 10 == 0:\n",
    "        print(n, time.time() - byrjun)\n",
    "    hnit = hnitlisti[n]\n",
    "    # Open image\n",
    "    try:\n",
    "        gtm = Image.open(mappa + hnit[0] + '_' + str(hnit[1]) + '_' + str(hnit[2]) + '.png')\n",
    "        dilar = gtm.load()\n",
    "    except FileNotFoundError:\n",
    "        continue\n",
    "    X_gogn.append(torch.tensor(np.transpose(np.array(gtm.getdata()).reshape(1024, 1024, 3), \n",
    "                                            (2, 0, 1)).reshape(1, 3, 1024, 1024), dtype=torch.float32).to(device))\n",
    "    # Convert coordinates\n",
    "    y_n = 1 / (2 * math.pi) * 2 ** 17 * (math.pi - math.log(math.tan(math.pi / 4 + math.radians(hnit[1]) / 2))) - 0.5\n",
    "    y_s = 1 / (2 * math.pi) * 2 ** 17 * (math.pi - math.log(math.tan(math.pi / 4 + math.radians(hnit[1]) / 2))) + 0.5\n",
    "    byggingar = byg_listi[hnit[0]]\n",
    "    hnit_br = (1 / (2 * math.pi) * 2 ** 17 * (math.pi - math.log(math.tan(math.pi / 4 + math.radians(hnit[1]) / 2))),\n",
    "               1 / (2 * math.pi) * 2 ** 17 * (math.pi + math.radians(hnit[2])))\n",
    "    # Buildings\n",
    "    bd = bd_all[hnit[0]]\n",
    "    ilat = [[[], []], [[], []]]\n",
    "    for k in range(byggingar.shape[0]):\n",
    "        bns = bd[k]\n",
    "        if bns[0] <= hnit[2] and bns[1] <= hnit[1] and bns[2] >= hnit[2] - 0.0014 and bns[3] >= hnit[1] - 0.0008:\n",
    "            ilat[0][0].append(k)\n",
    "        if bns[0] <= hnit[2] and bns[3] >= hnit[1] and bns[2] >= hnit[2] - 0.0014 and bns[1] <= hnit[1] + 0.0008:\n",
    "            ilat[0][1].append(k)\n",
    "        if bns[2] >= hnit[2] and bns[1] <= hnit[1] and bns[0] <= hnit[2] + 0.0014 and bns[3] >= hnit[1] - 0.0008:\n",
    "            ilat[1][0].append(k)\n",
    "        if bns[2] >= hnit[2] and bns[3] >= hnit[1] and bns[0] <= hnit[2] + 0.0014 and bns[1] <= hnit[1] + 0.0008:\n",
    "            ilat[1][1].append(k)\n",
    "    # Loop thru pixels\n",
    "    y_mynd = np.zeros((1, 1, 1024, 1024))\n",
    "    for i in range(1024):\n",
    "        for j in range(1024):\n",
    "            coord = pix2coord((i, j), hnit_br)\n",
    "            f = True\n",
    "            ilat_pos = [1, 1]\n",
    "            if coord[1] < hnit[2]:\n",
    "                ilat_pos[0] = 0\n",
    "            if coord[0] < hnit[1]:\n",
    "                ilat_pos[1] = 0\n",
    "            for k in ilat[ilat_pos[0]][ilat_pos[1]]:\n",
    "                if bd[k][0] > coord[1] or bd[k][1] > coord[0] or bd[k][2] < coord[1] or bd[k][3] < coord[0]:\n",
    "                    continue\n",
    "                if byggingar['geometry'][k].contains(Point(coord[1], coord[0])):\n",
    "                    y_mynd[0][0][i][j] = 1\n",
    "                    gtm.putpixel((i, j), (max(dilar[i,j][0] + 64, 255), dilar[i,j][1], dilar[i,j][2]))\n",
    "                    f = False\n",
    "                    break\n",
    "            if f:\n",
    "                gtm.putpixel((i, j), (dilar[i,j][0], dilar[i,j][1], max(dilar[i,j][2] + 64, 255)))\n",
    "    gtm.save(mappa + 'saman_' + hnit[0] + '_' + str(hnit[1]) + '_' + str(hnit[2]) + '.png')\n",
    "    y_gogn.append(torch.tensor(y_mynd, dtype=torch.float32).to(device))\n",
    "print(time.time() - byrjun)"
   ]
  },
  {
   "cell_type": "code",
   "execution_count": 10,
   "id": "f33e79e8-a454-43dc-b4ef-3ae3433ed6bf",
   "metadata": {},
   "outputs": [],
   "source": [
    "X_train, X_test, y_train, y_test = train_test_split(X_gogn, y_gogn)"
   ]
  },
  {
   "cell_type": "markdown",
   "id": "02e1c583-8900-4bd8-8a8c-ffe2817b22e4",
   "metadata": {},
   "source": [
    "## Líkan\n",
    "Hérna er U-Net til að greina díla á gervitunglamyndum. Forritað með aðstoð frá o1-preview eftir OpenAI."
   ]
  },
  {
   "cell_type": "code",
   "execution_count": 11,
   "id": "84758117-200f-4052-af90-8fa1dd5a7084",
   "metadata": {},
   "outputs": [],
   "source": [
    "class UNet(nn.Module):\n",
    "    def __init__(self, in_channels=1, out_channels=1):\n",
    "        super(UNet, self).__init__()\n",
    "\n",
    "        # Encoding path\n",
    "        self.enc1 = self.contract_block(in_channels, 64, 7, 3)\n",
    "        self.enc2 = self.contract_block(64, 128, 3, 1)\n",
    "        self.enc3 = self.contract_block(128, 256, 3, 1)\n",
    "        self.enc4 = self.contract_block(256, 512, 3, 1)\n",
    "        self.enc5 = self.contract_block(512, 1024, 3, 1)\n",
    "\n",
    "        # Decoding path\n",
    "        self.dec5 = self.expand_block(1024, 512, 3, 1)\n",
    "        self.dec4 = self.expand_block(1024, 256, 3, 1)\n",
    "        self.dec3 = self.expand_block(512, 128, 3, 1)\n",
    "        self.dec2 = self.expand_block(256, 64, 3, 1)\n",
    "        self.dec1 = self.final_block(128, out_channels, 3, 1)\n",
    "\n",
    "    def __call__(self, x):\n",
    "        # Encoding path\n",
    "        enc1 = self.enc1(x)\n",
    "        enc2 = self.enc2(F.max_pool2d(enc1, kernel_size=2))\n",
    "        enc3 = self.enc3(F.max_pool2d(enc2, kernel_size=2))\n",
    "        enc4 = self.enc4(F.max_pool2d(enc3, kernel_size=2))\n",
    "        enc5 = self.enc5(F.max_pool2d(enc4, kernel_size=2))\n",
    "\n",
    "        # Decoding path\n",
    "        dec5 = self.dec5(F.interpolate(enc5, scale_factor=2, mode='bilinear', align_corners=True))\n",
    "        dec5 = torch.cat((enc4, dec5), dim=1)\n",
    "        dec4 = self.dec4(F.interpolate(dec5, scale_factor=2, mode='bilinear', align_corners=True))\n",
    "        dec4 = torch.cat((enc3, dec4), dim=1)\n",
    "        dec3 = self.dec3(F.interpolate(dec4, scale_factor=2, mode='bilinear', align_corners=True))\n",
    "        dec3 = torch.cat((enc2, dec3), dim=1)\n",
    "        dec2 = self.dec2(F.interpolate(dec3, scale_factor=2, mode='bilinear', align_corners=True))\n",
    "        dec2 = torch.cat((enc1, dec2), dim=1)\n",
    "        dec1 = self.dec1(dec2)\n",
    "\n",
    "        return dec1  # Output logits\n",
    "\n",
    "    def contract_block(self, in_channels, out_channels, kernel_size, padding):\n",
    "        contract = nn.Sequential(\n",
    "            nn.Conv2d(in_channels, out_channels, kernel_size=kernel_size, padding=padding),\n",
    "            nn.ReLU(),\n",
    "            nn.BatchNorm2d(out_channels),\n",
    "            nn.Conv2d(out_channels, out_channels, kernel_size=kernel_size, padding=padding),\n",
    "            nn.ReLU(),\n",
    "            nn.BatchNorm2d(out_channels),\n",
    "        )\n",
    "        return contract\n",
    "\n",
    "    def expand_block(self, in_channels, out_channels, kernel_size, padding):\n",
    "        expand = nn.Sequential(\n",
    "            nn.Conv2d(in_channels, out_channels, kernel_size=kernel_size, padding=padding),\n",
    "            nn.ReLU(),\n",
    "            nn.BatchNorm2d(out_channels),\n",
    "            nn.Conv2d(out_channels, out_channels, kernel_size=kernel_size, padding=padding),\n",
    "            nn.ReLU(),\n",
    "            nn.BatchNorm2d(out_channels),\n",
    "        )\n",
    "        return expand\n",
    "\n",
    "    def final_block(self, in_channels, out_channels, kernel_size, padding):\n",
    "        final = nn.Sequential(\n",
    "            nn.Conv2d(in_channels, out_channels, kernel_size=kernel_size, padding=padding),\n",
    "            nn.Sigmoid()  # Use sigmoid activation for binary classification\n",
    "        )\n",
    "        return final"
   ]
  },
  {
   "cell_type": "code",
   "execution_count": 12,
   "id": "fbb89dbc-5300-4da1-a486-fbf879efa156",
   "metadata": {},
   "outputs": [],
   "source": [
    "epochs = 10"
   ]
  },
  {
   "cell_type": "code",
   "execution_count": 13,
   "id": "76f84000-11c7-472b-a90f-9ff339a42297",
   "metadata": {},
   "outputs": [
    {
     "name": "stdout",
     "output_type": "stream",
     "text": [
      "0 0 0.4844186305999756\n",
      "0 10 85.86574983596802\n",
      "0 20 171.4545407295227\n",
      "0 30 256.69369983673096\n",
      "0 40 341.07189083099365\n",
      "0 50 423.2439889907837\n",
      "0 60 505.59316301345825\n",
      "0 70 586.6096568107605\n",
      "0 80 664.9094047546387\n",
      "0 90 742.4108748435974\n",
      "1 0 796.5213987827301\n",
      "1 10 872.9328939914703\n",
      "1 20 951.7279448509216\n",
      "1 30 1028.3762538433075\n",
      "1 40 1106.6773037910461\n",
      "1 50 1183.9699819087982\n",
      "1 60 1262.535770893097\n",
      "1 70 1338.8658318519592\n",
      "1 80 1416.5565297603607\n",
      "1 90 1496.131395816803\n",
      "2 0 1555.067566871643\n",
      "2 10 1634.918063879013\n",
      "2 20 1721.6563210487366\n",
      "2 30 1808.876669883728\n",
      "2 40 1898.9586358070374\n",
      "2 50 1988.612432718277\n",
      "2 60 2075.290905714035\n",
      "2 70 2155.8068628311157\n",
      "2 80 2233.5561039447784\n",
      "2 90 2310.5302789211273\n",
      "3 0 2364.3836698532104\n",
      "3 10 2442.4994218349457\n",
      "3 20 2523.5904738903046\n",
      "3 30 2606.0000488758087\n",
      "3 40 2687.017163038254\n",
      "3 50 2765.3175768852234\n",
      "3 60 2841.5627048015594\n",
      "3 70 2919.2798359394073\n",
      "3 80 2997.7056069374084\n",
      "3 90 3080.6805357933044\n",
      "4 0 3139.168612718582\n",
      "4 10 3218.6049468517303\n",
      "4 20 3297.344527721405\n",
      "4 30 3375.2605798244476\n",
      "4 40 3452.4727506637573\n",
      "4 50 3531.4628937244415\n",
      "4 60 3609.36571598053\n",
      "4 70 3686.848007917404\n",
      "4 80 3766.046536922455\n",
      "4 90 3844.005430698395\n",
      "5 0 3903.8272829055786\n",
      "5 10 3985.6798169612885\n",
      "5 20 4069.5400037765503\n",
      "5 30 4152.242912769318\n",
      "5 40 4236.9255628585815\n",
      "5 50 4316.682810783386\n",
      "5 60 4394.361026763916\n",
      "5 70 4470.818778753281\n",
      "5 80 4550.074556827545\n",
      "5 90 4627.1423099040985\n",
      "6 0 4681.627782821655\n",
      "6 10 4758.355638742447\n",
      "6 20 4835.774533748627\n",
      "6 30 4913.625512838364\n",
      "6 40 4990.062957763672\n",
      "6 50 5066.324061870575\n",
      "6 60 5146.032945871353\n",
      "6 70 5222.9458639621735\n",
      "6 80 5302.673748016357\n",
      "6 90 5380.798447847366\n",
      "7 0 5441.794872760773\n",
      "7 10 5524.552096605301\n",
      "7 20 5610.244847774506\n",
      "7 30 5694.376685857773\n",
      "7 40 5778.185358762741\n",
      "7 50 5864.27583694458\n",
      "7 60 5944.596413850784\n",
      "7 70 6028.638189792633\n",
      "7 80 6122.803797006607\n",
      "7 90 6209.546114683151\n",
      "8 0 6279.846466779709\n",
      "8 10 6360.931315898895\n",
      "8 20 6443.539501667023\n",
      "8 30 6521.69301199913\n",
      "8 40 6603.365698814392\n",
      "8 50 6686.063627719879\n",
      "8 60 6768.995584964752\n",
      "8 70 6852.550271987915\n",
      "8 80 6938.493026733398\n",
      "8 90 7021.094998598099\n",
      "9 0 7084.311712741852\n",
      "9 10 7171.158776760101\n",
      "9 20 7253.034806728363\n",
      "9 30 7339.401369810104\n",
      "9 40 7421.637389659882\n",
      "9 50 7503.173713922501\n",
      "9 60 7582.787916660309\n",
      "9 70 7660.043970823288\n",
      "9 80 7739.813903808594\n",
      "9 90 7818.964017868042\n",
      "7875.133514881134\n"
     ]
    }
   ],
   "source": [
    "byrjun = time.time()\n",
    "likan = UNet(in_channels=3, out_channels=1)\n",
    "likan.to(device)\n",
    "criterion = nn.BCEWithLogitsLoss()\n",
    "optimizer = torch.optim.Adam(likan.parameters(), lr=1e-4)\n",
    "for e in range(epochs):\n",
    "    for i in range(len(X_train)):\n",
    "        if i % 10 == 0:\n",
    "            print(e, i, time.time() - byrjun)\n",
    "        y_pred = likan(X_train[i])\n",
    "        loss = criterion(y_pred, y_train[i])\n",
    "        loss.backward()\n",
    "        optimizer.step()\n",
    "        torch.mps.synchronize()\n",
    "print(time.time() - byrjun)"
   ]
  },
  {
   "cell_type": "markdown",
   "id": "138feb3a-b88e-4217-9ce4-8defa7708a4d",
   "metadata": {},
   "source": [
    "## Mat"
   ]
  },
  {
   "cell_type": "code",
   "execution_count": 14,
   "id": "a6df7789-2a00-4a20-a5d3-a5834dc959f4",
   "metadata": {},
   "outputs": [],
   "source": [
    "thresh = 0.5"
   ]
  },
  {
   "cell_type": "code",
   "execution_count": 18,
   "id": "3dd44a21-7075-4613-ae3e-95f075301c70",
   "metadata": {},
   "outputs": [
    {
     "name": "stdout",
     "output_type": "stream",
     "text": [
      "0 0.00034999847412109375\n",
      "10 71.12630820274353\n",
      "20 148.1229109764099\n",
      "30 219.04905724525452\n",
      "40 285.5056369304657\n",
      "50 348.4781219959259\n",
      "60 416.1436092853546\n",
      "70 472.2049980163574\n",
      "80 543.4083652496338\n",
      "90 612.8193790912628\n",
      "662.7884039878845\n",
      "Train precision: 0.22777357943268908\n",
      "Train recall: 0.006611337787642104\n",
      "\n",
      "0 662.7974820137024\n",
      "10 723.0798711776733\n",
      "20 786.327733039856\n",
      "30 865.728324174881\n",
      "883.9550840854645\n",
      "Test precision: 0.1999940730203888\n",
      "Test recall: 0.004453968160522897\n"
     ]
    }
   ],
   "source": [
    "byrjun = time.time()\n",
    "tp = 0\n",
    "fp = 0\n",
    "fn = 0\n",
    "for i in range(len(X_train)):\n",
    "    if i % 10 == 0:\n",
    "        print(i, time.time() - byrjun)\n",
    "    y_pred = likan(X_train[i])\n",
    "    frum = y_train[i].byte()\n",
    "    nid = (y_pred >= thresh).byte()\n",
    "    tp += ((nid == 1) & (frum == 1)).sum().item()\n",
    "    fp += ((nid == 1) & (frum == 0)).sum().item()\n",
    "    fn += ((nid == 0) & (frum == 1)).sum().item()\n",
    "print(time.time() - byrjun)\n",
    "print('Train precision:', tp / (tp + fp))\n",
    "print('Train recall:', tp / (tp + fn))\n",
    "print()\n",
    "tp = 0\n",
    "fp = 0\n",
    "fn = 0\n",
    "for i in range(len(X_test)):\n",
    "    if i % 10 == 0:\n",
    "        print(i, time.time() - byrjun)\n",
    "    y_pred = likan(X_test[i])\n",
    "    frum = y_test[i].byte()\n",
    "    nid = (y_pred >= thresh).byte()\n",
    "    tp += ((nid == 1) & (frum == 1)).sum().item()\n",
    "    fp += ((nid == 1) & (frum == 0)).sum().item()\n",
    "    fn += ((nid == 0) & (frum == 1)).sum().item()\n",
    "print(time.time() - byrjun)\n",
    "print('Test precision:', tp / (tp + fp))\n",
    "print('Test recall:', tp / (tp + fn))"
   ]
  },
  {
   "cell_type": "markdown",
   "id": "9532eee4-7f2b-43b8-ae3b-f75f05ba8560",
   "metadata": {},
   "source": [
    "## Lokaorð\n",
    "Greiningin gekk illa. Hún er alls ekki nógu nákvæm fyrir eiginlega notkun. En að minnsta kosti eru prófgögnin ekki langt verri en þjálfunargögnin.\n",
    "\n",
    "Hvert förum við héðan?\n",
    "- Við reynum að greina marghyrninga heldur en díla. Við getum búið til greypingu (e. *embedding*) fyrir hverja byggingu.\n",
    "- Við fáum betri gervitunglamyndir. Á þeim sem við notum núna eru byggingarnar hallaðar, og hnitin eru oft ekki nógu nákvæm."
   ]
  }
 ],
 "metadata": {
  "kernelspec": {
   "display_name": "Python 3 (ipykernel)",
   "language": "python",
   "name": "python3"
  },
  "language_info": {
   "codemirror_mode": {
    "name": "ipython",
    "version": 3
   },
   "file_extension": ".py",
   "mimetype": "text/x-python",
   "name": "python",
   "nbconvert_exporter": "python",
   "pygments_lexer": "ipython3",
   "version": "3.10.0"
  }
 },
 "nbformat": 4,
 "nbformat_minor": 5
}
