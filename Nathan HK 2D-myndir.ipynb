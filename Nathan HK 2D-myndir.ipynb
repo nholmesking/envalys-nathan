{
 "cells": [
  {
   "cell_type": "markdown",
   "id": "cbb1f41a-1e42-4d6d-bc9c-f9dcd67e2dfa",
   "metadata": {},
   "source": [
    "# Byggingagreining á gervitunglamyndum\n",
    "Nathan HK"
   ]
  },
  {
   "cell_type": "code",
   "execution_count": 1,
   "id": "c79a1311-7a3d-44c3-8912-8d6052611252",
   "metadata": {},
   "outputs": [],
   "source": [
    "from io import BytesIO\n",
    "import math\n",
    "import matplotlib.image as mpimg\n",
    "import matplotlib.pyplot as plt\n",
    "import numpy as np\n",
    "from PIL import Image\n",
    "from pyrosm import OSM\n",
    "from pyrosm import get_data\n",
    "import pywikibot\n",
    "from selenium.common.exceptions import NoSuchElementException\n",
    "from selenium import webdriver\n",
    "from selenium.webdriver.common.by import By\n",
    "from selenium.webdriver.common.keys import Keys\n",
    "from shapely.geometry import Point\n",
    "import sklearn as sk\n",
    "from sklearn.model_selection import train_test_split\n",
    "import time\n",
    "import torch\n",
    "import torch.nn as nn\n",
    "import torch.nn.functional as F"
   ]
  },
  {
   "cell_type": "code",
   "execution_count": 2,
   "id": "73776003-4532-416f-8943-3f9ea869de4f",
   "metadata": {},
   "outputs": [],
   "source": [
    "mappa = '/Users/002-nathan/Desktop/Envalys/gtm/'\n",
    "device = torch.device('mps' if torch.backends.mps.is_available() else 'cpu')"
   ]
  },
  {
   "cell_type": "markdown",
   "id": "35614a2d-fc85-4085-b036-144f8ce4cbe7",
   "metadata": {},
   "source": [
    "## Inngangsorð\n",
    "Við viljum þjálfa gervigreindarlíkan til að greina byggingar á gervitunglamyndum. Við þurfum tvenn gögn: gervitunglamyndir og staðsetningar bygginga.\n",
    "- **Gervitunglamyndir:** Við notum skjámyndatökur af Já.is. Ég veit ekki hvort þetta sé löglegt, en ég er ekki með neinar betri leiðir.\n",
    "- **Staðsetningar bygginga:** Við notum OpenStreetMap.\n",
    "\n",
    "Ég nota Apple M1 Pro-örgjörvi með 16 GB minni."
   ]
  },
  {
   "cell_type": "markdown",
   "id": "587ca15a-f705-45bc-a0a4-8c96bcfded27",
   "metadata": {},
   "source": [
    "## Gervitunglamyndir\n",
    "Við notum lista yfir greinar á ensku Wikipediunni um staði á Höfuðborgarsvæðinu og Akureyri. Gögnin á Landsbyggðinni eru ekki nóg nákvæm fyrir þetta líkan."
   ]
  },
  {
   "cell_type": "code",
   "execution_count": 3,
   "id": "611f2f21-144c-4ed2-abb1-c98e8e015757",
   "metadata": {},
   "outputs": [
    {
     "name": "stdout",
     "output_type": "stream",
     "text": [
      "54\n",
      "h 120 94.91269516944885\n",
      "6\n",
      "a 130 109.2448079586029\n"
     ]
    }
   ],
   "source": [
    "byrjun = time.time()\n",
    "hnitlisti = []\n",
    "wiki = pywikibot.Site('en', 'wikipedia')\n",
    "\n",
    "# Capital Region\n",
    "flokkur_h = pywikibot.Category(wiki, 'Populated places in Capital Region (Iceland)')\n",
    "undir = list(flokkur_h.subcategories(recurse=3))\n",
    "buinn_fl = []  # Completed categories\n",
    "buinn_si = []  # Completed pages\n",
    "print(len(undir))\n",
    "for a in undir:\n",
    "    if a in buinn_fl:  # Already did category\n",
    "        continue\n",
    "    for b in a.articles():\n",
    "        if b in buinn_si:  # Already did page\n",
    "            continue\n",
    "        coord = b.coordinates(primary_only=True)\n",
    "        # Coordinates are invalid outside latitude [63, 67] and longitude [-25, -12]\n",
    "        if coord is not None and coord.lat >= 63 and coord.lat <= 67 and coord.lon >= -25 and coord.lon <= -12:\n",
    "            hnitlisti.append(('h', float(coord.lat), float(coord.lon)))\n",
    "        buinn_si.append(b)\n",
    "    buinn_fl.append(a)\n",
    "print('h', len(hnitlisti), time.time() - byrjun)\n",
    "\n",
    "# Akureyri\n",
    "flokkur_a = pywikibot.Category(wiki, 'Akureyri')\n",
    "undir = list(flokkur_a.subcategories(recurse=3))\n",
    "buinn_fl = []  # Completed categories\n",
    "buinn_si = []  # Completed pages\n",
    "print(len(undir))\n",
    "for a in undir:\n",
    "    if a in buinn_fl:  # Already did category\n",
    "        continue\n",
    "    for b in a.articles():\n",
    "        if b in buinn_si:  # Already did page\n",
    "            continue\n",
    "        coord = b.coordinates(primary_only=True)\n",
    "        # Coordinates are invalid outside latitude [63, 67] and longitude [-25, -12]\n",
    "        if coord is not None and coord.lat >= 63 and coord.lat <= 67 and coord.lon >= -25 and coord.lon <= -12:\n",
    "            hnitlisti.append(('a', float(coord.lat), float(coord.lon)))\n",
    "        buinn_si.append(b)\n",
    "    buinn_fl.append(a)\n",
    "print('a', len(hnitlisti), time.time() - byrjun)\n",
    "\n",
    "# Demo\n",
    "hnitlisti.append(('d', 64.132737, -21.886075))"
   ]
  },
  {
   "cell_type": "markdown",
   "id": "c9befe0c-77da-4c6c-a169-b550da856dad",
   "metadata": {},
   "source": [
    "Við getum ekki tekið myndir af miðjunni skjásins, því það eru önnur HTML-efni sem hylja gervitunglamyndirnar. Þess vegna leitum við að staði sem eru 0.002° til austurs frá myndatökustaðnum; hérna eru hnitin á skjánum fyrir þennan stað."
   ]
  },
  {
   "cell_type": "code",
   "execution_count": 4,
   "id": "027be46b-66c6-413c-b70c-e59611deffa9",
   "metadata": {},
   "outputs": [],
   "source": [
    "skhn = (746, 861)"
   ]
  },
  {
   "cell_type": "markdown",
   "id": "f7a7197e-1815-456d-bfd1-fdd04936ba0b",
   "metadata": {},
   "source": [
    "Við tökum skjámyndir af öllum stöðum á hnitlistanum.\n",
    "- URL-ið notar ISN93-hnit, en okkar hnit eru WGS84, og það er engin einföld leið til að skipta milli þeirra. Þess vegna þurfum við að leita að hnitum eins og manneskja myndi leita.\n",
    "- Á Chrome er myndasvæðið 512x512, en þegar myndin er vistuð verður hún 1024x1024."
   ]
  },
  {
   "cell_type": "code",
   "execution_count": 5,
   "id": "0b85159f-82ed-4569-b14e-8ce2a6794e94",
   "metadata": {},
   "outputs": [
    {
     "name": "stdout",
     "output_type": "stream",
     "text": [
      "0 5.124744176864624\n",
      "50 5.128981113433838\n",
      "100 5.131638050079346\n",
      "5.2694902420043945\n"
     ]
    }
   ],
   "source": [
    "byrjun = time.time()\n",
    "driver = webdriver.Chrome()\n",
    "driver.set_window_size(1500, 1000)\n",
    "driver.get('https://ja.is/kort/?x=356954&y=408253&nz=17.00&type=aerialnl')\n",
    "# Accept GDPR\n",
    "try:\n",
    "    btn = driver.find_element(By.XPATH, '//a[@id=\"gdpr_banner_ok\"]')\n",
    "    btn.click()\n",
    "except NoSuchElementException:\n",
    "    pass\n",
    "# Allow cookies\n",
    "try:\n",
    "    btn = driver.find_element(By.XPATH, '//button[@class=\"ch2-btn ch2-allow-all-btn ch2-btn-primary\"]')\n",
    "    btn.click()\n",
    "except NoSuchElementException:\n",
    "    pass\n",
    "leit = driver.find_element(By.XPATH, '//input[@id=\"mapq\"]')\n",
    "for n in range(len(hnitlisti)):\n",
    "    if n % 50 == 0:\n",
    "        print(n, time.time() - byrjun)\n",
    "    hnit = hnitlisti[n]\n",
    "    # Input search term into search box\n",
    "    try:\n",
    "        z = open(mappa + hnit[0] + '_' + str(hnit[1]) + '_' + str(hnit[2]) + '.png', 'rb')\n",
    "        z.close()\n",
    "    except FileNotFoundError:\n",
    "        leit.clear()\n",
    "        leit.send_keys(str(hnit[1]) + ', ' + str(hnit[2] + 0.002))\n",
    "        leit.send_keys(Keys.RETURN)\n",
    "        time.sleep(2) # Wait for images to load\n",
    "        try:  # Place not found\n",
    "            nf = driver.find_element(By.XPATH, '//div[@class=\"row not-found\"]')\n",
    "        except NoSuchElementException:  # Place found, save and crop screenshot\n",
    "            driver.save_screenshot(mappa + hnit[0] + '_' + str(hnit[1]) + '_' + str(hnit[2]) + '.png')\n",
    "            skmynd = Image.open(mappa + hnit[0] + '_' + str(hnit[1]) + '_' + str(hnit[2]) + '.png')\n",
    "            skmynd = skmynd.crop((skhn[0] - 512, skhn[1] - 512, skhn[0] + 512, skhn[1] + 512))\n",
    "            skmynd.save(mappa + hnit[0] + '_' + str(hnit[1]) + '_' + str(hnit[2]) + '.png')\n",
    "        time.sleep(1)\n",
    "driver.close()\n",
    "print(time.time() - byrjun)"
   ]
  },
  {
   "cell_type": "markdown",
   "id": "a2a4be53-241f-47e9-8bf5-61fbb7134c93",
   "metadata": {},
   "source": [
    "## Staðsetningar bygginga\n",
    "Við sækjum gögn frá OpenStreetMap."
   ]
  },
  {
   "cell_type": "code",
   "execution_count": 6,
   "id": "7a890d29-f591-4459-8221-24fe5601231a",
   "metadata": {},
   "outputs": [],
   "source": [
    "fp = get_data('Iceland')"
   ]
  },
  {
   "cell_type": "markdown",
   "id": "6aec4b6f-00f5-4b0c-a66b-1940697b3d2a",
   "metadata": {},
   "source": [
    "Þetta undirforrit tekur díl á myndinni og finnur GPS-hnitin. Við notum Web Mercator."
   ]
  },
  {
   "cell_type": "code",
   "execution_count": 7,
   "id": "7b0536b8-b22f-41ed-9372-7df9a9cfb69b",
   "metadata": {},
   "outputs": [],
   "source": [
    "def pix2coord(pix, hnit_br):\n",
    "    x_t = hnit_br[1] + (pix[0] - 512) / 1024\n",
    "    lon = math.degrees(x_t * 2 * math.pi / (2 ** 17) - math.pi)\n",
    "    y_t = hnit_br[0] + (pix[1] - 512) / 1024\n",
    "    lat = math.degrees(2 * (math.atan(math.exp(math.pi - y_t * 2 * math.pi / (2 ** 17))) - math.pi / 4))\n",
    "    return (lat, lon)"
   ]
  },
  {
   "cell_type": "markdown",
   "id": "1a675895-2250-4bd4-b5fd-56386ec8da38",
   "metadata": {},
   "source": [
    "Þetta undirforrit tekur GPS-hnit og finnur dílinn á myndinni. Forritað með aðstoð frá o1-preview eftir OpenAI."
   ]
  },
  {
   "cell_type": "code",
   "execution_count": 8,
   "id": "e35165ce-22f9-4562-a902-22e3249acf47",
   "metadata": {},
   "outputs": [],
   "source": [
    "def coord2pix(lat, lon, hnit_br):\n",
    "    # Convert degrees to radians\n",
    "    lon_radians = math.radians(lon)\n",
    "    lat_radians = math.radians(lat)\n",
    "    \n",
    "    # Invert the calculation for x_t\n",
    "    x_t = ((lon_radians + math.pi) * (2 ** 17)) / (2 * math.pi)\n",
    "    # Calculate pix[0] (x-coordinate)\n",
    "    pix_x = (x_t - hnit_br[1]) * 1024 + 512\n",
    "    \n",
    "    # Invert the calculation for y_t\n",
    "    b = lat_radians / 2 + math.pi / 4\n",
    "    a = math.tan(b)\n",
    "    c = math.pi - math.log(a)\n",
    "    y_t = c * (2 ** 17) / (2 * math.pi)\n",
    "    # Calculate pix[1] (y-coordinate)\n",
    "    pix_y = (y_t - hnit_br[0]) * 1024 + 512\n",
    "    \n",
    "    return (pix_x, pix_y)"
   ]
  },
  {
   "cell_type": "markdown",
   "id": "64eecab4-b5e7-4950-ba40-4764bfe3810e",
   "metadata": {},
   "source": [
    "Við sækjum tvo lista: einn yfir byggingar á Höfuðborgarsvæðinu, og einn á Akureyri."
   ]
  },
  {
   "cell_type": "code",
   "execution_count": 9,
   "id": "0530e148-868a-4de1-8204-d2e3dbd7462e",
   "metadata": {},
   "outputs": [
    {
     "name": "stdout",
     "output_type": "stream",
     "text": [
      "25.799147844314575\n"
     ]
    }
   ],
   "source": [
    "byrjun = time.time()\n",
    "byg_listi = {}\n",
    "osm_h = OSM(fp, bounding_box=[-22.140901, 63.847886, -21.152576, 64.390306])\n",
    "byg_listi['h'] = osm_h.get_buildings()\n",
    "osm_a = OSM(fp, bounding_box=[-18.398071, 65.543087, -17.968359, 66.576398])\n",
    "byg_listi['a'] = osm_a.get_buildings()\n",
    "print(time.time() - byrjun)"
   ]
  },
  {
   "cell_type": "markdown",
   "id": "34c32165-714b-4af9-bfb0-dab633f7954b",
   "metadata": {},
   "source": [
    "Við deilum myndinni í 8x8 ílát. Fyrir hvert ílát útreiknum við hlutfall díla þar sem byggingar eru til."
   ]
  },
  {
   "cell_type": "code",
   "execution_count": 38,
   "id": "fa351946-9653-4f41-8013-8a4b53ff9074",
   "metadata": {},
   "outputs": [
    {
     "name": "stdout",
     "output_type": "stream",
     "text": [
      "0 0.5125069618225098\n",
      "10 78.30081582069397\n",
      "20 151.14215898513794\n",
      "30 244.8667230606079\n",
      "40 368.9744670391083\n",
      "50 437.1108479499817\n",
      "60 515.4973361492157\n",
      "70 564.326956987381\n",
      "80 608.6712729930878\n",
      "90 722.0818228721619\n",
      "100 871.0285167694092\n",
      "110 940.9799239635468\n",
      "120 1035.6494569778442\n",
      "130 1086.1104819774628\n",
      "1091.255038022995\n"
     ]
    }
   ],
   "source": [
    "byrjun = time.time()\n",
    "X_gogn = []\n",
    "y_gogn = []\n",
    "bd_all = {}\n",
    "for st in ['h', 'a']:\n",
    "    byggingar = byg_listi[st]\n",
    "    bd = []\n",
    "    for k in range(byggingar.shape[0]):\n",
    "        bns = byggingar['geometry'][k].bounds\n",
    "        bd.append(bns)\n",
    "    bd_all[st] = bd\n",
    "for n in range(len(hnitlisti)):\n",
    "    if n % 10 == 0:\n",
    "        print(n, time.time() - byrjun)\n",
    "    hnit = hnitlisti[n]\n",
    "    # Open image\n",
    "    try:\n",
    "        gtm = Image.open(mappa + hnit[0] + '_' + str(hnit[1]) + '_' + str(hnit[2]) + '.png')\n",
    "        dilar = gtm.load()\n",
    "    except FileNotFoundError:\n",
    "        continue\n",
    "    if hnit[0] != 'd':\n",
    "        X_gogn.append(torch.tensor(np.transpose(np.array(gtm.getdata()).reshape(1024, 1024, 3), \n",
    "                                                (2, 0, 1)).reshape(1, 3, 1024, 1024), dtype=torch.float32).to(device))\n",
    "    # Convert coordinates\n",
    "    y_n = 1 / (2 * math.pi) * 2 ** 17 * (math.pi - math.log(math.tan(math.pi / 4 + math.radians(hnit[1]) / 2))) - 0.5\n",
    "    y_s = 1 / (2 * math.pi) * 2 ** 17 * (math.pi - math.log(math.tan(math.pi / 4 + math.radians(hnit[1]) / 2))) + 0.5\n",
    "    if hnit[0] == 'd':\n",
    "        byggingar = byg_listi['h']\n",
    "    else:\n",
    "        byggingar = byg_listi[hnit[0]]\n",
    "    hnit_br = (1 / (2 * math.pi) * 2 ** 17 * (math.pi - math.log(math.tan(math.pi / 4 + math.radians(hnit[1]) / 2))),\n",
    "               1 / (2 * math.pi) * 2 ** 17 * (math.pi + math.radians(hnit[2])))\n",
    "    # Buildings\n",
    "    y_mynd = np.zeros((1, 1, 1024, 1024))\n",
    "    if hnit[0] == 'd':\n",
    "        bd = bd_all['h']\n",
    "    else:\n",
    "        bd = bd_all[hnit[0]]\n",
    "    for k in range(byggingar.shape[0]):\n",
    "        bns = bd[k]\n",
    "        if bns[0] > hnit[2] + 0.0014 or bns[1] > hnit[1] + 0.0008 or bns[2] < hnit[2] - 0.0014 or bns[3] < hnit[1] - 0.0008:\n",
    "            continue\n",
    "        NW = coord2pix(bns[3], bns[0], hnit_br)\n",
    "        SE = coord2pix(bns[1], bns[2], hnit_br)\n",
    "        if NW[0] > 1024 or NW[1] > 1024 or SE[0] < 0 or SE[1] < 0:\n",
    "            continue\n",
    "        for i in range(max(0, int(NW[0])), min(1024, int(SE[0]) + 1)):\n",
    "            for j in range(max(0, int(NW[1])), min(1024, int(SE[1]) + 1)):\n",
    "                if y_mynd[0][0][i][j] == 1:\n",
    "                    continue\n",
    "                coord = pix2coord((i, j), hnit_br)\n",
    "                if byggingar['geometry'][k].contains(Point(coord[1], coord[0])):\n",
    "                    y_mynd[0][0][i][j] = 1\n",
    "                    gtm.putpixel((i, j), (max(dilar[i,j][0] + 64, 255), dilar[i,j][1], dilar[i,j][2]))\n",
    "    gtm.save(mappa + 'saman_' + hnit[0] + '_' + str(hnit[1]) + '_' + str(hnit[2]) + '.png')\n",
    "    if hnit[0] != 'd':\n",
    "        y_ilat = np.zeros((1, 1, 8, 8))\n",
    "        for i in range(8):\n",
    "            for j in range(8):\n",
    "                y_ilat[0][0][i][j] = np.sum(y_mynd[0, 0, 128*i:128*(i+1), 128*j:128*(j+1)]) / 16384\n",
    "        y_gogn.append(torch.tensor(y_ilat, dtype=torch.float32).to(device))\n",
    "print(time.time() - byrjun)"
   ]
  },
  {
   "cell_type": "code",
   "execution_count": 39,
   "id": "f33e79e8-a454-43dc-b4ef-3ae3433ed6bf",
   "metadata": {},
   "outputs": [],
   "source": [
    "X_train, X_test, y_train, y_test = train_test_split(X_gogn, y_gogn)"
   ]
  },
  {
   "cell_type": "markdown",
   "id": "02e1c583-8900-4bd8-8a8c-ffe2817b22e4",
   "metadata": {},
   "source": [
    "## Líkan\n",
    "Hérna er CNN til að greina díla á gervitunglamyndum. Forritað með aðstoð frá o1-preview."
   ]
  },
  {
   "cell_type": "code",
   "execution_count": 40,
   "id": "2c26b9c6-7105-41bb-9e36-a26fd7c8133b",
   "metadata": {},
   "outputs": [],
   "source": [
    "def custom_loss_function(predictions, targets, alpha=1.0, beta=0.1, gamma=0.1):\n",
    "    mse_loss = F.mse_loss(predictions, targets)\n",
    "    \n",
    "    # Total Variation Loss\n",
    "    tv_loss = torch.mean(torch.abs(predictions[:, :, 1:, :] - predictions[:, :, :-1, :])) + \\\n",
    "              torch.mean(torch.abs(predictions[:, :, :, 1:] - predictions[:, :, :, :-1]))\n",
    "    \n",
    "    # Edge-aware Loss using Sobel Filters\n",
    "    sobel_kernel_x = torch.tensor([[1, 0, -1],\n",
    "                                   [2, 0, -2],\n",
    "                                   [1, 0, -1]], dtype=torch.float32).unsqueeze(0).unsqueeze(0).to(device)\n",
    "    sobel_kernel_y = torch.tensor([[1, 2, 1],\n",
    "                                   [0, 0, 0],\n",
    "                                   [-1, -2, -1]], dtype=torch.float32).unsqueeze(0).unsqueeze(0).to(device)\n",
    "    \n",
    "    grad_x = F.conv2d(predictions, sobel_kernel_x, padding=1)\n",
    "    grad_y = F.conv2d(predictions, sobel_kernel_y, padding=1)\n",
    "    edge_loss = torch.mean(torch.sqrt(grad_x ** 2 + grad_y ** 2))\n",
    "    \n",
    "    # Combine the losses\n",
    "    loss = alpha * mse_loss + beta * tv_loss + gamma * edge_loss\n",
    "    return loss"
   ]
  },
  {
   "cell_type": "code",
   "execution_count": 41,
   "id": "84758117-200f-4052-af90-8fa1dd5a7084",
   "metadata": {},
   "outputs": [],
   "source": [
    "class BuildingOccupancyModel(nn.Module):\n",
    "    def __init__(self):\n",
    "        super(BuildingOccupancyModel, self).__init__()\n",
    "        \n",
    "        self.layer1 = nn.Sequential(\n",
    "            nn.Conv2d(3, 64, kernel_size=7, stride=2, padding=3),\n",
    "            nn.BatchNorm2d(64),\n",
    "            nn.ReLU(inplace=True)\n",
    "        )\n",
    "        \n",
    "        self.layer2 = nn.Sequential(\n",
    "            nn.Conv2d(64, 128, kernel_size=5, stride=2, padding=2),\n",
    "            nn.BatchNorm2d(128),\n",
    "            nn.ReLU(inplace=True)\n",
    "        )\n",
    "        \n",
    "        self.layer3 = nn.Sequential(\n",
    "            nn.Conv2d(128, 256, kernel_size=3, stride=2, padding=1),\n",
    "            nn.BatchNorm2d(256),\n",
    "            nn.ReLU(inplace=True)\n",
    "        )\n",
    "        \n",
    "        self.layer4 = nn.Sequential(\n",
    "            nn.Conv2d(256, 512, kernel_size=3, stride=2, padding=1),\n",
    "            nn.BatchNorm2d(512),\n",
    "            nn.ReLU(inplace=True)\n",
    "        )\n",
    "        \n",
    "        self.layer5 = nn.Sequential(\n",
    "            nn.Conv2d(512, 512, kernel_size=3, stride=2, padding=1),\n",
    "            nn.BatchNorm2d(512),\n",
    "            nn.ReLU(inplace=True)\n",
    "        )\n",
    "        \n",
    "        self.layer6 = nn.Sequential(\n",
    "            nn.Conv2d(512, 512, kernel_size=3, stride=2, padding=1),\n",
    "            nn.BatchNorm2d(512),\n",
    "            nn.ReLU(inplace=True)\n",
    "        )\n",
    "        \n",
    "        self.layer7 = nn.Sequential(\n",
    "            nn.Conv2d(512, 512, kernel_size=3, stride=2, padding=1),\n",
    "            nn.BatchNorm2d(512),\n",
    "            nn.ReLU(inplace=True)\n",
    "        )\n",
    "        \n",
    "        self.output_layer = nn.Sequential(\n",
    "            nn.Conv2d(512, 1, kernel_size=1),\n",
    "            nn.Sigmoid()\n",
    "        )\n",
    "        \n",
    "    def forward(self, x):\n",
    "        x = self.layer1(x)  # Output: [batch_size, 64, 512, 512]\n",
    "        x = self.layer2(x)  # Output: [batch_size, 128, 256, 256]\n",
    "        x = self.layer3(x)  # Output: [batch_size, 256, 128, 128]\n",
    "        x = self.layer4(x)  # Output: [batch_size, 512, 64, 64]\n",
    "        x = self.layer5(x)  # Output: [batch_size, 512, 32, 32]\n",
    "        x = self.layer6(x)  # Output: [batch_size, 512, 16, 16]\n",
    "        x = self.layer7(x)  # Output: [batch_size, 512, 8, 8]\n",
    "        x = self.output_layer(x)  # Output: [batch_size, 1, 8, 8]\n",
    "        return x"
   ]
  },
  {
   "cell_type": "code",
   "execution_count": 42,
   "id": "fbb89dbc-5300-4da1-a486-fbf879efa156",
   "metadata": {},
   "outputs": [],
   "source": [
    "epochs = 10"
   ]
  },
  {
   "cell_type": "code",
   "execution_count": 43,
   "id": "76f84000-11c7-472b-a90f-9ff339a42297",
   "metadata": {},
   "outputs": [
    {
     "name": "stdout",
     "output_type": "stream",
     "text": [
      "Epoch [1/10], Loss: 0.2334, Time: 32.17044997215271\n",
      "Epoch [2/10], Loss: 0.1357, Time: 63.59251093864441\n",
      "Epoch [3/10], Loss: 0.1225, Time: 95.06823515892029\n",
      "Epoch [4/10], Loss: 0.1189, Time: 126.68882489204407\n",
      "Epoch [5/10], Loss: 0.1162, Time: 158.28763389587402\n",
      "Epoch [6/10], Loss: 0.1150, Time: 189.8799388408661\n",
      "Epoch [7/10], Loss: 0.1144, Time: 221.6982889175415\n",
      "Epoch [8/10], Loss: 0.1122, Time: 253.18287706375122\n",
      "Epoch [9/10], Loss: 0.1112, Time: 284.78169775009155\n",
      "Epoch [10/10], Loss: 0.1097, Time: 316.24529099464417\n"
     ]
    }
   ],
   "source": [
    "byrjun = time.time()\n",
    "likan = BuildingOccupancyModel()\n",
    "likan = likan.to(device)\n",
    "optimizer = torch.optim.Adam(likan.parameters(), lr=1e-4, weight_decay=1e-5)\n",
    "train_loss = []\n",
    "test_loss = []\n",
    "for e in range(epochs):\n",
    "    likan.eval()\n",
    "    with torch.no_grad():\n",
    "        running_loss = 0.0\n",
    "        for i in range(len(X_train)):\n",
    "            images = X_train[i]\n",
    "            targets = y_train[i]\n",
    "            y_pred = likan(images)\n",
    "            loss = custom_loss_function(y_pred, targets)\n",
    "            running_loss += loss\n",
    "        train_loss.append((running_loss / len(X_train)).item())\n",
    "        running_loss = 0.0\n",
    "        for i in range(len(X_test)):\n",
    "            images = X_test[i]\n",
    "            targets = y_test[i]\n",
    "            y_pred = likan(images)\n",
    "            loss = custom_loss_function(y_pred, targets)\n",
    "            running_loss += loss\n",
    "        test_loss.append((running_loss / len(X_test)).item())\n",
    "        \n",
    "    likan.train()\n",
    "    running_loss = 0.0\n",
    "    for i in range(len(X_train)):\n",
    "        images = X_train[i]\n",
    "        targets = y_train[i]\n",
    "        \n",
    "        optimizer.zero_grad()\n",
    "        y_pred = likan(images)\n",
    "        \n",
    "        loss = custom_loss_function(y_pred, targets)\n",
    "        loss.backward()\n",
    "        optimizer.step()\n",
    "        \n",
    "        running_loss += loss.item()\n",
    "    \n",
    "    avg_loss = running_loss / len(X_train)\n",
    "    print(f\"Epoch [{e+1}/{epochs}], Loss: {avg_loss:.4f}, Time: {time.time() - byrjun}\")\n",
    "\n",
    "likan.eval()\n",
    "with torch.no_grad():\n",
    "    running_loss = 0.0\n",
    "    for i in range(len(X_train)):\n",
    "        images = X_train[i]\n",
    "        targets = y_train[i]\n",
    "        y_pred = likan(images)\n",
    "        loss = custom_loss_function(y_pred, targets)\n",
    "        running_loss += loss\n",
    "    train_loss.append((running_loss / len(X_train)).item())\n",
    "    running_loss = 0.0\n",
    "    for i in range(len(X_test)):\n",
    "        images = X_test[i]\n",
    "        targets = y_test[i]\n",
    "        y_pred = likan(images)\n",
    "        loss = custom_loss_function(y_pred, targets)\n",
    "        running_loss += loss\n",
    "    test_loss.append((running_loss / len(X_test)).item())"
   ]
  },
  {
   "cell_type": "markdown",
   "id": "138feb3a-b88e-4217-9ce4-8defa7708a4d",
   "metadata": {},
   "source": [
    "## Mat"
   ]
  },
  {
   "cell_type": "code",
   "execution_count": 56,
   "id": "a6df7789-2a00-4a20-a5d3-a5834dc959f4",
   "metadata": {},
   "outputs": [
    {
     "name": "stdout",
     "output_type": "stream",
     "text": [
      "Train loss: 0.1247916892170906\n",
      "Test loss: 0.13635346293449402\n"
     ]
    },
    {
     "data": {
      "image/png": "[encoded data removed]",
      "text/plain": [
       "<Figure size 640x480 with 1 Axes>"
      ]
     },
     "metadata": {},
     "output_type": "display_data"
    }
   ],
   "source": [
    "print('Train loss:', train_loss[-1])\n",
    "print('Test loss:', test_loss[-1])\n",
    "plt.plot(train_loss, label='Train')\n",
    "plt.plot(test_loss, label='Test')\n",
    "plt.ylim(bottom=0)\n",
    "plt.title('Loss over epochs')\n",
    "plt.xlabel('Epoch')\n",
    "plt.ylabel('Precision')\n",
    "plt.legend()\n",
    "plt.show()"
   ]
  },
  {
   "cell_type": "markdown",
   "id": "9532eee4-7f2b-43b8-ae3b-f75f05ba8560",
   "metadata": {},
   "source": [
    "## Lokaorð\n",
    "Greiningin gekk illa. Líkanið er alls ekki nógu nákvæmt fyrir eiginlega notkun.\n",
    "\n",
    "Hvert förum við héðan?\n",
    "- Við reynum að greina marghyrninga heldur en díla. Við getum búið til greypingu (e. *embedding*) fyrir hverja byggingu.\n",
    "- Við fáum betri gervitunglamyndir. Á þeim sem við notum núna eru byggingarnar hallaðar, og hnitin eru oft ekki nógu nákvæm."
   ]
  }
 ],
 "metadata": {
  "kernelspec": {
   "display_name": "Python 3 (ipykernel)",
   "language": "python",
   "name": "python3"
  },
  "language_info": {
   "codemirror_mode": {
    "name": "ipython",
    "version": 3
   },
   "file_extension": ".py",
   "mimetype": "text/x-python",
   "name": "python",
   "nbconvert_exporter": "python",
   "pygments_lexer": "ipython3",
   "version": "3.10.0"
  }
 },
 "nbformat": 4,
 "nbformat_minor": 5
}
